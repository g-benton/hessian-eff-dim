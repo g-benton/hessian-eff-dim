{
 "cells": [
  {
   "cell_type": "code",
   "execution_count": null,
   "metadata": {},
   "outputs": [],
   "source": [
    "import matplotlib.pyplot as plt\n",
    "import subprocess\n",
    "import numpy as np\n",
    "import pickle\n",
    "\n",
    "%matplotlib inline"
   ]
  },
  {
   "cell_type": "code",
   "execution_count": null,
   "metadata": {},
   "outputs": [],
   "source": [
    "import seaborn as sns\n",
    "sns.set_palette('bright')\n",
    "cols = sns.color_palette('bright')"
   ]
  },
  {
   "cell_type": "code",
   "execution_count": null,
   "metadata": {},
   "outputs": [],
   "source": [
    "with open('../saved-experiments/resnet_width_logs.pkl', 'rb') as handle:\n",
    "    plotting_dict = pickle.load(handle)"
   ]
  },
  {
   "cell_type": "code",
   "execution_count": null,
   "metadata": {},
   "outputs": [],
   "source": [
    "output_ordering = np.array(plotting_dict['logs_order'])\n",
    "output_log = plotting_dict['logs']\n",
    "hessian_eff_dim_list = plotting_dict['hessian_eff_dim']\n",
    "xaxis = plotting_dict['xaxis']"
   ]
  },
  {
   "cell_type": "code",
   "execution_count": null,
   "metadata": {},
   "outputs": [],
   "source": [
    "fig, ax = plt.subplots(figsize=(12,5))\n",
    "ax.plot(output_ordering[np.argsort(output_ordering)], output_log[np.argsort(output_ordering),4], \n",
    "         label = 'Test Loss', color = cols[0])\n",
    "ax.plot(output_ordering[np.argsort(output_ordering)], output_log[np.argsort(output_ordering),2], \n",
    "         label = 'Train Loss', color=cols[1])\n",
    "\n",
    "\n",
    "#ax.legend()\n",
    "ax.set_xlabel('Width', fontsize=20)\n",
    "ax.set_ylabel('Loss', fontsize=20)\n",
    "\n",
    "ax2 = ax.twinx()\n",
    "ax2.plot(xaxis, hessian_eff_dim_list, label = 'Effective Dimensionality',\n",
    "        color=cols[2])\n",
    "\n",
    "lines, labels = ax.get_legend_handles_labels()\n",
    "lines2, labels2 = ax2.get_legend_handles_labels()\n",
    "ax2.legend(lines + lines2, labels + labels2, fontsize=16)\n",
    "ax2.set_ylabel(r'$N_{eff}$(Hessian)', fontsize=20)\n",
    "\n",
    "ax.grid()\n",
    "plt.savefig('../dnn_double_descent.pdf', bbox_inches='tight')"
   ]
  },
  {
   "cell_type": "code",
   "execution_count": null,
   "metadata": {},
   "outputs": [],
   "source": []
  }
 ],
 "metadata": {
  "kernelspec": {
   "display_name": "Python 3",
   "language": "python",
   "name": "python3"
  },
  "language_info": {
   "codemirror_mode": {
    "name": "ipython",
    "version": 3
   },
   "file_extension": ".py",
   "mimetype": "text/x-python",
   "name": "python",
   "nbconvert_exporter": "python",
   "pygments_lexer": "ipython3",
   "version": "3.7.4"
  }
 },
 "nbformat": 4,
 "nbformat_minor": 2
}
