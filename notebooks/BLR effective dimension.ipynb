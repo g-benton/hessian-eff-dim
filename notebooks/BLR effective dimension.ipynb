{
 "cells": [
  {
   "cell_type": "code",
   "execution_count": null,
   "metadata": {},
   "outputs": [],
   "source": [
    "import math\n",
    "import torch\n",
    "import numpy as np\n",
    "import matplotlib.pyplot as plt\n",
    "from matplotlib.lines import Line2D"
   ]
  },
  {
   "cell_type": "code",
   "execution_count": null,
   "metadata": {},
   "outputs": [],
   "source": [
    "def features(x, p=10):\n",
    "    phi = torch.zeros(x.numel(), p)\n",
    "    ind = 0\n",
    "    for freq in range(p//2):\n",
    "        phi[:, ind] = torch.cos((freq+1)*math.pi*x)\n",
    "        ind += 1\n",
    "        phi[:, ind] = torch.sin((freq+1)*math.pi*x)\n",
    "        ind += 1\n",
    "            \n",
    "    return phi"
   ]
  },
  {
   "cell_type": "code",
   "execution_count": null,
   "metadata": {},
   "outputs": [],
   "source": [
    "def response(phi, sig=1.):\n",
    "    alpha = torch.randn(phi.size(-1))\n",
    "    y = phi.matmul(alpha)\n",
    "    y = y + torch.randn(y.shape)*sig\n",
    "    return y"
   ]
  },
  {
   "cell_type": "code",
   "execution_count": null,
   "metadata": {},
   "outputs": [],
   "source": [
    "def post_cov(phi, sig, s_0):\n",
    "    in_ = phi.t().matmul(phi).div(sig) + s_0.inverse()\n",
    "#     in_ = phi.t().matmul(phi).div(sig)\n",
    "    return in_.inverse()"
   ]
  },
  {
   "cell_type": "code",
   "execution_count": null,
   "metadata": {},
   "outputs": [],
   "source": [
    "def func_cov(phi, sig, s_0):\n",
    "    in_ = phi.t().matmul(phi).div(sig) + s_0.inverse()\n",
    "#     in_ = phi.t().matmul(phi).div(sig)\n",
    "    return phi.matmul(in_.inverse()).matmul(phi.t())"
   ]
  },
  {
   "cell_type": "markdown",
   "metadata": {},
   "source": [
    "## Setup Data"
   ]
  },
  {
   "cell_type": "code",
   "execution_count": null,
   "metadata": {},
   "outputs": [],
   "source": [
    "nx = 300\n",
    "P = 200\n",
    "\n",
    "x = torch.linspace(0, 50, nx)\n",
    "phi = features(x, p=P)\n",
    "sig = 0.1\n",
    "y = response(phi, sig)\n",
    "alpha = 3."
   ]
  },
  {
   "cell_type": "code",
   "execution_count": null,
   "metadata": {},
   "outputs": [],
   "source": [
    "prior_cov = alpha * torch.eye(P)"
   ]
  },
  {
   "cell_type": "code",
   "execution_count": null,
   "metadata": {},
   "outputs": [],
   "source": [
    "plt.plot(y)"
   ]
  },
  {
   "cell_type": "markdown",
   "metadata": {},
   "source": [
    "### Begin Modeling"
   ]
  },
  {
   "cell_type": "code",
   "execution_count": null,
   "metadata": {},
   "outputs": [],
   "source": [
    "gram = phi.t().matmul(phi)\n",
    "eigs, evecs = np.linalg.eig(gram)\n",
    "eigs = np.real(eigs)"
   ]
  },
  {
   "cell_type": "code",
   "execution_count": null,
   "metadata": {},
   "outputs": [],
   "source": [
    "order_to_add = np.random.permutation(nx)"
   ]
  },
  {
   "cell_type": "code",
   "execution_count": null,
   "metadata": {},
   "outputs": [],
   "source": [
    "keepers = []\n",
    "eigs = torch.zeros(nx, P)\n",
    "func_eigs = []\n",
    "\n",
    "for ii, idx in enumerate(order_to_add):\n",
    "    keepers.append(idx)\n",
    "    phi_temp = phi[keepers,:]\n",
    "    \n",
    "    posterior_covariance = post_cov(phi_temp, sig, prior_cov)\n",
    "    evals, _ = np.linalg.eig(posterior_covariance)\n",
    "    eigs[ii, :] = torch.FloatTensor(np.real(evals))\n",
    "    \n",
    "    function_covariance = func_cov(phi_temp, sig, prior_cov)\n",
    "    evals, _ = np.linalg.eig(function_covariance)\n",
    "    func_eigs.append(torch.FloatTensor(np.real(evals)))"
   ]
  },
  {
   "cell_type": "code",
   "execution_count": null,
   "metadata": {},
   "outputs": [],
   "source": [
    "def effective_dimension(eigs, alpha=1.):\n",
    "    nx = eigs.size(0)\n",
    "    eff_dim = torch.zeros(nx)\n",
    "    for ii in range(nx):\n",
    "        eff_dim[ii] = torch.sum(eigs[ii, :].div(eigs[ii, :] + alpha))\n",
    "        \n",
    "    return eff_dim"
   ]
  },
  {
   "cell_type": "code",
   "execution_count": null,
   "metadata": {},
   "outputs": [],
   "source": [
    "alpha = 5.\n",
    "eff_dim = effective_dimension(eigs, alpha=alpha)\n",
    "func_eff_dim = [torch.sum(ee.div(ee + alpha)) for ee in func_eigs]"
   ]
  },
  {
   "cell_type": "code",
   "execution_count": null,
   "metadata": {},
   "outputs": [],
   "source": [
    "import seaborn as sns"
   ]
  },
  {
   "cell_type": "code",
   "execution_count": null,
   "metadata": {},
   "outputs": [],
   "source": [
    "title_fs = 28\n",
    "ax_fs = 16\n",
    "leg_fs = 14\n",
    "tick_size = 16\n",
    "\n",
    "sns.set_style(\"white\")\n",
    "colors = sns.color_palette(\"bright\")\n",
    "# colors = [\"537EC5\", \"F39422\"]\n",
    "\n",
    "fig, ax1 = plt.subplots(figsize=(6, 5))\n",
    "l1, = ax1.plot(eff_dim, color=colors[0], label=\"Eff. Dim. Posterior Covariance\")\n",
    "plt.xticks(fontsize=tick_size)\n",
    "plt.yticks(fontsize=tick_size)\n",
    "ax1.grid()\n",
    "\n",
    "ax2 = ax1.twinx()\n",
    "l2, = ax2.plot(func_eff_dim, color=colors[1], label=\"Eff. Dim. Function\")\n",
    "\n",
    "# l3 = ax1.axvline(200, color='k', label=\"Number of Parameters\", linestyle=\":\")\n",
    "plt.title(\"Bayesian Linear Regression\", fontsize=title_fs)\n",
    "ax1.set_xlabel(\"Number of Data Points\", fontsize=ax_fs)\n",
    "ax1.set_ylabel(\"Effective Dimension (Parameter Space)\", fontsize=ax_fs)\n",
    "ax2.set_ylabel(\"Effective Dimension (Function Space)\", fontsize=ax_fs)\n",
    "\n",
    "plt.xlim(0, nx)\n",
    "plt.xticks(fontsize=tick_size)\n",
    "plt.yticks(fontsize=tick_size)\n",
    "\n",
    "ax1.axvspan(0, 175, alpha=0.1, color='red')\n",
    "ax1.axvspan(175, 225, alpha=0.1, color='yellow')\n",
    "ax1.axvspan(225, nx, alpha=0.1, color='green')\n",
    "\n",
    "lines = [l1, l2]\n",
    "plt.legend(lines, [l.get_label() for l in lines], loc=\"center right\",\n",
    "          fontsize=leg_fs)\n",
    "\n",
    "# plt.legend(fontsize=leg_fs)\n",
    "plt.savefig(\"./blr_eff_dim.pdf\", bbox_inches=\"tight\")\n"
   ]
  },
  {
   "cell_type": "markdown",
   "metadata": {},
   "source": [
    "## Load in NN Data"
   ]
  },
  {
   "cell_type": "code",
   "execution_count": null,
   "metadata": {},
   "outputs": [],
   "source": [
    "import pickle"
   ]
  },
  {
   "cell_type": "code",
   "execution_count": null,
   "metadata": {},
   "outputs": [],
   "source": [
    "def compute_eff_dim(x, s = 1.):\n",
    "    return np.sum(x / (x + s))"
   ]
  },
  {
   "cell_type": "code",
   "execution_count": null,
   "metadata": {},
   "outputs": [],
   "source": [
    "fpath = \"../saved-experiments/\"\n",
    "fname = \"bnn_regression_evals.pkl\"\n",
    "file = open(fpath + fname, 'rb')\n",
    "all_evals = pickle.load(file)\n",
    "file.close()"
   ]
  },
  {
   "cell_type": "code",
   "execution_count": null,
   "metadata": {},
   "outputs": [],
   "source": [
    "all_evals['eigs'][0][0][1]\n",
    "all_n = all_evals['n']"
   ]
  },
  {
   "cell_type": "code",
   "execution_count": null,
   "metadata": {},
   "outputs": [],
   "source": [
    "eff_dims_parameters = [[compute_eff_dim(all_evals['eigs'][i][x][0], s=1.) for x in range(len(all_n))] for i in range(len(all_evals['eigs']))]\n",
    "eff_dims_fns = [[compute_eff_dim(all_evals['eigs'][i][x][1], s=1e-10) for x in range(len(all_n))] for i in range(len(all_evals['eigs']))]"
   ]
  },
  {
   "cell_type": "code",
   "execution_count": null,
   "metadata": {},
   "outputs": [],
   "source": [
    "par_eff_dim = np.array(eff_dims_parameters)\n",
    "par_eff_dim = np.mean(par_eff_dim, 0)\n",
    "\n",
    "fn_eff_dim = np.array(eff_dims_fns)\n",
    "fn_eff_dim = np.mean(fn_eff_dim, 0)"
   ]
  },
  {
   "cell_type": "code",
   "execution_count": null,
   "metadata": {},
   "outputs": [],
   "source": [
    "title_fs = 28\n",
    "ax_fs = 26\n",
    "leg_fs = 26\n",
    "tick_size = 16\n",
    "\n",
    "sns.set_style(\"white\")\n",
    "colors = sns.color_palette(\"bright\")\n",
    "\n",
    "fig, (ax1, ax2) = plt.subplots(1, 2, figsize=(15, 6))\n",
    "\n",
    "l1, = ax1.plot(eff_dim, color=colors[0], label=\"Eff. Dim. Posterior Covariance\",\n",
    "              linewidth=3.)\n",
    "plt.xticks(fontsize=tick_size)\n",
    "plt.yticks(fontsize=tick_size)\n",
    "\n",
    "ax12 = ax1.twinx()\n",
    "l2, = ax12.plot(func_eff_dim, color=colors[1], label=\"Eff. Dim. Function\",\n",
    "               linewidth=4., linestyle=\"--\")\n",
    "\n",
    "plt.title(\"Bayesian Linear Regression\", fontsize=title_fs)\n",
    "ax1.set_xlabel(\"Number of Data Points\", fontsize=ax_fs)\n",
    "ax1.set_ylabel(r\"$N_{eff}$ (Parameter Cov.)\", fontsize=ax_fs)\n",
    "\n",
    "ymin = 0\n",
    "ymax = 80\n",
    "ax1.set_xlim(0, nx)\n",
    "ax1.set_ylim(ymin, ymax)\n",
    "ax1.tick_params(axis='both', labelsize=tick_size)\n",
    "ax12.tick_params(axis='y', labelsize=tick_size)\n",
    "\n",
    "ax1.axvspan(0, 175, alpha=0.05, color='red')\n",
    "ax1.axvspan(175, 225, alpha=0.1, color='yellow')\n",
    "ax1.axvspan(225, nx, alpha=0.2, color='green')\n",
    "ax1.axvline(225, alpha=0.5, color='k')\n",
    "ax1.axvline(175, alpha=0.5, color='k')\n",
    "\n",
    "\n",
    "\n",
    "ax2.scatter(all_n, par_eff_dim, color=colors[0], label=\"Eff. Dim. Posterior Covariance\",\n",
    "           s=75)\n",
    "\n",
    "ax22 = ax2.twinx()\n",
    "ax22.scatter(all_n, fn_eff_dim, color=colors[1], label=\"Eff. Dim. Function\", s=75,\n",
    "            marker='D')\n",
    "\n",
    "plt.title(\"Bayesian Neural Network\", fontsize=title_fs)\n",
    "ax2.set_xlabel(\"Number of Data Points\", fontsize=ax_fs)\n",
    "ax22.set_ylabel(r\"$N_{eff}$ (Hessian)\", fontsize=ax_fs)\n",
    "ax2.tick_params(axis='both', labelsize=tick_size)\n",
    "ax22.tick_params(axis='y', labelsize=tick_size)\n",
    "\n",
    "xmin = 0\n",
    "xmax = all_n[-1]\n",
    "ymin = 0\n",
    "ymax = 200\n",
    "\n",
    "ax2.set_xlim(xmin, xmax)\n",
    "ax2.set_ylim(ymin, ymax)\n",
    "ax2.axvspan(0, 500, alpha=0.05, color='red')\n",
    "ax2.axvspan(500, 750, alpha=0.1, color='yellow')\n",
    "ax2.axvspan(750, all_n[-1], alpha=0.2, color='green')\n",
    "ax2.axvline(500, alpha=0.5, color='k')\n",
    "ax2.axvline(750, alpha=0.5, color='k')\n",
    "\n",
    "fig.subplots_adjust(wspace=0.2, hspace=None)\n",
    "\n",
    "ax1.legend(handles = [l1,l2] , labels=[\"Parameter Covariance\", \"Hessian\"],loc='upper center', \n",
    "             bbox_to_anchor=(1., -0.12),fancybox=False, shadow=False, ncol=3,\n",
    "            fontsize=leg_fs)\n",
    "plt.savefig(\"./bayes-eff-dim.pdf\", bbox_inches=\"tight\")\n",
    "plt.show()\n"
   ]
  },
  {
   "cell_type": "code",
   "execution_count": null,
   "metadata": {},
   "outputs": [],
   "source": []
  }
 ],
 "metadata": {
  "kernelspec": {
   "display_name": "Python 3",
   "language": "python",
   "name": "python3"
  },
  "language_info": {
   "codemirror_mode": {
    "name": "ipython",
    "version": 3
   },
   "file_extension": ".py",
   "mimetype": "text/x-python",
   "name": "python",
   "nbconvert_exporter": "python",
   "pygments_lexer": "ipython3",
   "version": "3.7.4"
  }
 },
 "nbformat": 4,
 "nbformat_minor": 2
}
