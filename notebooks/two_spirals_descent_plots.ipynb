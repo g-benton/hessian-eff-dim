{
 "cells": [
  {
   "cell_type": "code",
   "execution_count": null,
   "metadata": {},
   "outputs": [],
   "source": [
    "import matplotlib.pyplot as plt\n",
    "import seaborn as sns\n",
    "import numpy as np\n",
    "\n",
    "import pickle\n",
    "\n",
    "%matplotlib inline"
   ]
  },
  {
   "cell_type": "code",
   "execution_count": null,
   "metadata": {},
   "outputs": [],
   "source": [
    "with open('../saved-experiments/two_spirals_descent_dimensionality.pkl', 'rb') as handle:\n",
    "    depth_experiment, depth_pars = pickle.load(handle)\n",
    "    \n",
    "with open('../saved-experiments/two_spirals_descent.pkl', 'rb') as handle:\n",
    "    width_experiment, width_pars = pickle.load(handle)"
   ]
  },
  {
   "cell_type": "code",
   "execution_count": null,
   "metadata": {},
   "outputs": [],
   "source": [
    "def eff_dim(x, s = 0.1):\n",
    "    return np.sum(x / (x + s))\n",
    "\n",
    "def parse_lists(rep_full_list):\n",
    "    ed_list = []\n",
    "    fl_list = []\n",
    "    for losses_list, eigs_list, _ in rep_full_list:\n",
    "        eff_dim_arr = np.array([eff_dim(ee, s = 50.) for ee in eigs_list])\n",
    "        final_loss = [l[-1] for l in losses_list]\n",
    "\n",
    "        ed_list.append(eff_dim_arr)\n",
    "        fl_list.append(final_loss)\n",
    "\n",
    "    ed_list = np.array(ed_list)\n",
    "    fl_list = np.array(fl_list)\n",
    "    tl_list = np.array([ee[-1] for ee in rep_full_list])\n",
    "    \n",
    "    return ed_list, fl_list, tl_list"
   ]
  },
  {
   "cell_type": "code",
   "execution_count": null,
   "metadata": {},
   "outputs": [],
   "source": [
    "depth_lists = parse_lists(depth_experiment)\n",
    "width_lists = parse_lists(width_experiment)"
   ]
  },
  {
   "cell_type": "code",
   "execution_count": null,
   "metadata": {},
   "outputs": [],
   "source": [
    "fig, ax = plt.subplots(1, 2, figsize = (20, 5))\n",
    "\n",
    "ed_list, fl_list, tl_list = depth_lists[0], depth_lists[1], depth_lists[2]\n",
    "\n",
    "l2, = ax[0].plot(depth_pars, ed_list.mean(0), label = 'Effective Dim', color = 'green', marker='x')\n",
    "ax[0].fill_between(depth_pars, ed_list.mean(0) - 2 * ed_list.std(0), ed_list.mean(0) + 2*ed_list.std(0), alpha = 0.3,\n",
    "               color='green')\n",
    "ax[0].set_ylabel('Effective Dimensionality', fontsize = 16)\n",
    "ax[0].set_ylim((0, 20))\n",
    "\n",
    "ax2 = ax[0].twinx()\n",
    "l3, = ax2.plot(depth_pars, fl_list.mean(0), label = 'Final Loss', marker = 's')\n",
    "ax2.fill_between(depth_pars, fl_list.mean(0) - 2 * fl_list.std(0), fl_list.mean(0) + 2*fl_list.std(0), alpha = 0.3)\n",
    "\n",
    "l1, = ax2.plot(depth_pars, tl_list.mean(0), label = 'Test Loss', marker='o')\n",
    "ax2.fill_between(depth_pars, tl_list.mean(0) - 2 * tl_list.std(0), tl_list.mean(0) + 2*tl_list.std(0), alpha = 0.3)\n",
    "ax2.set_ylabel('Loss', fontsize = 16)\n",
    "#ax2.legend()\n",
    "\n",
    "ax[0].set_xlabel('Number of Parameters', fontsize = 16)\n",
    "ax[0].set_title('Increasing Depth', fontsize = 24)\n",
    "ax2.set_ylim((0, 1.75))\n",
    "lines = [l1, l2, l3]\n",
    "# \n",
    "# ax2.legend(lines, [l.get_label() for l in lines], loc=\"upper right\",\n",
    "#           fontsize=16)\n",
    "\n",
    "ed_list, fl_list, tl_list = width_lists[0], width_lists[1], width_lists[2]\n",
    "\n",
    "l4, = ax[1].plot(width_pars, ed_list.mean(0), label = 'Effective Dim', color = 'green', marker = 'x')\n",
    "ax[1].fill_between(width_pars, ed_list.mean(0) - 2 * ed_list.std(0), ed_list.mean(0) + 2*ed_list.std(0), alpha = 0.3,\n",
    "               color='green')\n",
    "ax[1].set_ylabel('Effective Dimensionality', fontsize = 16)\n",
    "ax[1].set_ylim((0, 20))\n",
    "\n",
    "ax2 = ax[1].twinx()\n",
    "l5, = ax2.plot(width_pars, fl_list.mean(0), label = 'Final Loss', marker = 's')\n",
    "ax2.fill_between(width_pars, fl_list.mean(0) - 2 * fl_list.std(0), fl_list.mean(0) + 2*fl_list.std(0), alpha = 0.3)\n",
    "\n",
    "l6, = ax2.plot(width_pars, tl_list.mean(0), label = 'Test Loss', marker = 'o')\n",
    "ax2.fill_between(width_pars, tl_list.mean(0) - 2 * tl_list.std(0), tl_list.mean(0) + 2*tl_list.std(0), alpha = 0.3)\n",
    "ax2.set_ylabel('Loss', fontsize = 16)\n",
    "#ax2.legend()\n",
    "ax2.set_ylim((0, 1.75))\n",
    "ax[1].set_xlabel('Number of Parameters', fontsize = 16)\n",
    "ax[1].set_title('Increasing Width', fontsize = 24)\n",
    "\n",
    "# lines = [l4, l5, l6]\n",
    "# ax[1].legend(lines, [l.get_label() for l in lines], loc=\"upper right\",\n",
    "#           fontsize=16)\n",
    "ax[0].legend(handles = lines , labels=[l.get_label() for l in lines],loc=\"upper center\",\n",
    "             bbox_to_anchor=(1.15, -0.12),fancybox=False, shadow=False, ncol=3,\n",
    "            fontsize=16)\n",
    "fig.subplots_adjust(wspace=0.25, hspace=50)\n",
    "plt.savefig('../saved-experiments/two_spirals_width_depth.pdf', bbox_inches=\"tight\")"
   ]
  },
  {
   "cell_type": "code",
   "execution_count": null,
   "metadata": {},
   "outputs": [],
   "source": []
  }
 ],
 "metadata": {
  "kernelspec": {
   "display_name": "Python 3",
   "language": "python",
   "name": "python3"
  },
  "language_info": {
   "codemirror_mode": {
    "name": "ipython",
    "version": 3
   },
   "file_extension": ".py",
   "mimetype": "text/x-python",
   "name": "python",
   "nbconvert_exporter": "python",
   "pygments_lexer": "ipython3",
   "version": "3.7.4"
  }
 },
 "nbformat": 4,
 "nbformat_minor": 2
}
