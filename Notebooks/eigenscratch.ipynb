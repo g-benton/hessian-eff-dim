{
 "cells": [
  {
   "cell_type": "code",
   "execution_count": 40,
   "metadata": {},
   "outputs": [],
   "source": [
    "import math\n",
    "import torch\n",
    "import gpytorch\n",
    "import numpy as np\n",
    "from gpytorch.utils.lanczos import lanczos_tridiag\n",
    "from gpytorch.utils.lanczos import lanczos_tridiag_to_diag"
   ]
  },
  {
   "cell_type": "code",
   "execution_count": 41,
   "metadata": {},
   "outputs": [],
   "source": [
    "from gpytorch.kernels import RBFKernel"
   ]
  },
  {
   "cell_type": "code",
   "execution_count": 42,
   "metadata": {},
   "outputs": [],
   "source": [
    "nx = 100\n",
    "xx = torch.linspace(0, 5, nx)\n",
    "kern = RBFKernel()\n",
    "mat = kern(xx, xx).evaluate()"
   ]
  },
  {
   "cell_type": "code",
   "execution_count": 43,
   "metadata": {},
   "outputs": [],
   "source": [
    "e_val, e_vec = np.linalg.eig(mat.detach())\n",
    "idx = e_val.argsort()[::-1]   \n",
    "e_val = torch.FloatTensor(e_val[idx].real)\n",
    "e_vec = torch.FloatTensor(e_vec[:,idx].real)"
   ]
  },
  {
   "cell_type": "markdown",
   "metadata": {},
   "source": [
    "### Lanczos Version"
   ]
  },
  {
   "cell_type": "code",
   "execution_count": 44,
   "metadata": {},
   "outputs": [],
   "source": [
    "def multer(vec):\n",
    "    return mat.matmul(vec)"
   ]
  },
  {
   "cell_type": "code",
   "execution_count": 62,
   "metadata": {},
   "outputs": [],
   "source": [
    "n_vals = 20\n",
    "Q, T = lanczos_tridiag(multer, n_vals, device=\"cpu\", dtype=mat.dtype, \n",
    "                      matrix_shape=mat.shape)"
   ]
  },
  {
   "cell_type": "code",
   "execution_count": 63,
   "metadata": {},
   "outputs": [],
   "source": [
    "t_eval, t_evec = lanczos_tridiag_to_diag(T)"
   ]
  },
  {
   "cell_type": "code",
   "execution_count": 64,
   "metadata": {},
   "outputs": [],
   "source": [
    "t_eval = t_eval.detach().numpy()\n",
    "t_evec = t_evec.detach().numpy()\n",
    "idx = t_eval.argsort()[::-1]   \n",
    "t_eval = torch.FloatTensor(t_eval[idx].real)\n",
    "t_evec = torch.FloatTensor(t_evec[:,idx].real)"
   ]
  },
  {
   "cell_type": "code",
   "execution_count": 65,
   "metadata": {},
   "outputs": [
    {
     "data": {
      "text/plain": [
       "tensor([ 3.8147e-06,  3.8147e-06,  0.0000e+00,  9.5367e-07,  1.9073e-06,\n",
       "        -1.1921e-06,  2.3842e-07,  4.6896e-01,  3.4187e-01,  1.2762e-01,\n",
       "         4.3151e-02,  1.3322e-02,  3.7810e-03,  9.9188e-04,  2.4173e-04,\n",
       "         5.5101e-05,  1.1680e-05,  1.4517e-06,  2.8181e-07, -1.0800e-06])"
      ]
     },
     "execution_count": 65,
     "metadata": {},
     "output_type": "execute_result"
    }
   ],
   "source": [
    "t_eval - e_val[:n_vals] ## these match pretty well, but not perfectly"
   ]
  },
  {
   "cell_type": "code",
   "execution_count": 66,
   "metadata": {},
   "outputs": [],
   "source": [
    "t_evec = Q.matmul(t_evec)"
   ]
  },
  {
   "cell_type": "code",
   "execution_count": 77,
   "metadata": {},
   "outputs": [],
   "source": [
    "evec_dot = t_evec.t().matmul(e_vec[:, :n_vals]) ## this looks mostly right"
   ]
  }
 ],
 "metadata": {
  "kernelspec": {
   "display_name": "Python 3",
   "language": "python",
   "name": "python3"
  },
  "language_info": {
   "codemirror_mode": {
    "name": "ipython",
    "version": 3
   },
   "file_extension": ".py",
   "mimetype": "text/x-python",
   "name": "python",
   "nbconvert_exporter": "python",
   "pygments_lexer": "ipython3",
   "version": "3.7.3"
  }
 },
 "nbformat": 4,
 "nbformat_minor": 2
}
