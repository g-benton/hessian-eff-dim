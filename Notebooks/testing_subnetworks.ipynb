{
 "cells": [
  {
   "cell_type": "code",
   "execution_count": 1,
   "metadata": {},
   "outputs": [],
   "source": [
    "import math\n",
    "import torch\n",
    "import matplotlib.pyplot\n",
    "from torch import autograd, nn"
   ]
  },
  {
   "cell_type": "code",
   "execution_count": 2,
   "metadata": {},
   "outputs": [],
   "source": [
    "class GetSubnet(autograd.Function):\n",
    "    @staticmethod\n",
    "    def forward(ctx, scores, k):\n",
    "        # Get the subnetwork by sorting the scores and using the top k%\n",
    "        out = scores.clone()\n",
    "        _, idx = scores.flatten().sort()\n",
    "        j = int((1-k) * scores.numel())\n",
    "        \n",
    "        # flat_out and out access the same memory.\n",
    "        flat_out = out.flatten()\n",
    "        flat_out[idx[:j]] = 0\n",
    "        flat_out[idx[j:]] = 1\n",
    "        return out\n",
    "    \n",
    "    @staticmethod\n",
    "    def backward(ctx, g):\n",
    "    # send the gradient g straight-through on the backward pass.\n",
    "        return g, None\n",
    "\n",
    "class SubnetConv(nn.Conv2d):\n",
    "    # self.k is the % of weights remaining, a real number in [0,1]\n",
    "    # self.popup_scores is a Parameter which has the same shape as self.weight\n",
    "    # Gradients to self.weight, self.bias have been turned off.\n",
    "    def forward(self, x):\n",
    "        # Get the subnetwork by sorting the scores.\n",
    "        adj = GetSubnet.apply(\n",
    "        self.popup_scores.abs(), self.k)\n",
    "        # Use only the subnetwork in the forward pass.\n",
    "        w = self.weight * adj\n",
    "        x = F.conv2d(\n",
    "            x, w, self.bias, self.stride, self.padding,\n",
    "                self.dilation, self.groups\n",
    "        )\n",
    "        return x"
   ]
  },
  {
   "cell_type": "code",
   "execution_count": null,
   "metadata": {},
   "outputs": [],
   "source": []
  }
 ],
 "metadata": {
  "kernelspec": {
   "display_name": "Python 3",
   "language": "python",
   "name": "python3"
  },
  "language_info": {
   "codemirror_mode": {
    "name": "ipython",
    "version": 3
   },
   "file_extension": ".py",
   "mimetype": "text/x-python",
   "name": "python",
   "nbconvert_exporter": "python",
   "pygments_lexer": "ipython3",
   "version": "3.7.3"
  }
 },
 "nbformat": 4,
 "nbformat_minor": 2
}
