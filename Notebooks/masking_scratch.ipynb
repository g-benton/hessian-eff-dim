{
 "cells": [
  {
   "cell_type": "code",
   "execution_count": 49,
   "metadata": {},
   "outputs": [],
   "source": [
    "import math\n",
    "import torch\n",
    "import torch.nn as nn\n",
    "import hess\n",
    "from hess.nets import MaskedNet\n",
    "from torch.nn import Module, init\n",
    "from torch.nn.parameter import Parameter\n",
    "import torch.nn.functional as F\n",
    "import numpy as np\n",
    "from hess import utils\n",
    "import matplotlib.pyplot as plt"
   ]
  },
  {
   "cell_type": "code",
   "execution_count": 2,
   "metadata": {},
   "outputs": [],
   "source": [
    "class MaskedLayer(Module):\n",
    "    __constants__ = ['bias', 'in_features', 'out_features']\n",
    "\n",
    "    def __init__(self, in_features, out_features, bias=True, pct_keep=0.6):\n",
    "        super(MaskedLayer, self).__init__()\n",
    "        self.in_features = in_features\n",
    "        self.out_features = out_features\n",
    "        self.weight = Parameter(torch.Tensor(out_features, in_features))\n",
    "        if bias:\n",
    "            self.bias = Parameter(torch.Tensor(out_features))\n",
    "        else:\n",
    "            self.register_parameter('bias', None)\n",
    "        self.reset_parameters()\n",
    "        \n",
    "        dist = torch.distributions.Bernoulli(pct_keep)\n",
    "        self.mask = dist.sample(sample_shape=torch.Size(self.weight.shape))\n",
    "        \n",
    "        if bias:\n",
    "            self.bias_mask = dist.sample(sample_shape=torch.Size(self.bias.shape))\n",
    "\n",
    "        \n",
    "    def reset_parameters(self):\n",
    "        init.kaiming_uniform_(self.weight, a=math.sqrt(5))\n",
    "        if self.bias is not None:\n",
    "            fan_in, _ = init._calculate_fan_in_and_fan_out(self.weight)\n",
    "            bound = 1 / math.sqrt(fan_in)\n",
    "            init.uniform_(self.bias, -bound, bound)\n",
    "\n",
    "\n",
    "    def forward(self, input):\n",
    "        return F.linear(input, self.weight * self.mask, self.bias * self.bias_mask)\n",
    "    \n",
    "    def extra_repr(self):\n",
    "        return 'iln_features={}, out_features={}, bias={}'.format(\n",
    "            self.in_features, self.out_features, self.bias is not None\n",
    "        )\n"
   ]
  },
  {
   "cell_type": "code",
   "execution_count": 3,
   "metadata": {},
   "outputs": [],
   "source": [
    "in_ = 10\n",
    "hid_ = 5\n",
    "module = nn.ModuleList()\n",
    "layer = MaskedLayer(in_, hid_, pct_keep=0.6)\n",
    "module.append(layer)\n",
    "mod = torch.nn.Sequential(*module)"
   ]
  },
  {
   "cell_type": "code",
   "execution_count": 4,
   "metadata": {},
   "outputs": [],
   "source": [
    "inp = torch.rand(1, 10)"
   ]
  },
  {
   "cell_type": "code",
   "execution_count": 5,
   "metadata": {},
   "outputs": [
    {
     "data": {
      "text/plain": [
       "tensor([[ 0.2155, -0.7685, -0.3858, -0.0486,  0.3608]],\n",
       "       grad_fn=<AddmmBackward>)"
      ]
     },
     "execution_count": 5,
     "metadata": {},
     "output_type": "execute_result"
    }
   ],
   "source": [
    "layer(inp)"
   ]
  },
  {
   "cell_type": "code",
   "execution_count": 6,
   "metadata": {},
   "outputs": [
    {
     "data": {
      "text/plain": [
       "tensor([[ 0.2155, -0.7685, -0.3858, -0.0486,  0.3608]],\n",
       "       grad_fn=<AddmmBackward>)"
      ]
     },
     "execution_count": 6,
     "metadata": {},
     "output_type": "execute_result"
    }
   ],
   "source": [
    "mod(inp)"
   ]
  },
  {
   "cell_type": "markdown",
   "metadata": {},
   "source": [
    "## Now actually trying to build masked nets ##"
   ]
  },
  {
   "cell_type": "code",
   "execution_count": 7,
   "metadata": {},
   "outputs": [],
   "source": [
    "def twospirals(n_points, noise=.5, random_state=920):\n",
    "    \"\"\"\n",
    "     Returns the two spirals dataset.\n",
    "    \"\"\"\n",
    "    n = np.sqrt(np.random.rand(n_points,1)) * 600 * (2*np.pi)/360\n",
    "    d1x = -1.5*np.cos(n)*n + np.random.randn(n_points,1) * noise\n",
    "    d1y =  1.5*np.sin(n)*n + np.random.randn(n_points,1) * noise\n",
    "    return (np.vstack((np.hstack((d1x,d1y)),np.hstack((-d1x,-d1y)))),\n",
    "            np.hstack((np.zeros(n_points),np.ones(n_points))))"
   ]
  },
  {
   "cell_type": "code",
   "execution_count": 8,
   "metadata": {},
   "outputs": [],
   "source": [
    "X, Y = twospirals(500, noise=1.3)\n",
    "train_x = torch.FloatTensor(X)\n",
    "train_y = torch.FloatTensor(Y).unsqueeze(-1)"
   ]
  },
  {
   "cell_type": "code",
   "execution_count": 9,
   "metadata": {},
   "outputs": [],
   "source": [
    "model = hess.nets.MaskedNet(train_x, train_y, bias=True)"
   ]
  },
  {
   "cell_type": "code",
   "execution_count": 11,
   "metadata": {},
   "outputs": [],
   "source": [
    "loss_func=nn.MSELoss()\n",
    "optim=torch.optim.Adam\n",
    "lr=0.01\n",
    "iters=1000\n",
    "\n",
    "optimizer=optim(model.parameters(), lr=lr)\n",
    "\n",
    "\n",
    "optimizer.zero_grad()\n",
    "outputs = model(train_x)\n",
    "\n",
    "loss=loss_func(outputs,train_y)"
   ]
  },
  {
   "cell_type": "code",
   "execution_count": 12,
   "metadata": {},
   "outputs": [],
   "source": [
    "loss.backward()"
   ]
  },
  {
   "cell_type": "markdown",
   "metadata": {},
   "source": [
    "## Compute Hessian"
   ]
  },
  {
   "cell_type": "code",
   "execution_count": 14,
   "metadata": {},
   "outputs": [
    {
     "name": "stdout",
     "output_type": "stream",
     "text": [
      "[tensor([[ 0.1249,  0.1545],\n",
      "        [-0.0019, -0.0709],\n",
      "        [ 0.0081, -0.0053],\n",
      "        [ 0.0000,  0.0000],\n",
      "        [-0.1368, -0.1205],\n",
      "        [ 0.0000, -0.0110],\n",
      "        [ 0.0000, -0.0891],\n",
      "        [-0.0638,  0.0000],\n",
      "        [-0.0036,  0.0018],\n",
      "        [-0.0093,  0.0000]]), tensor([-0.0306,  0.0099,  0.0000,  0.0000,  0.0247, -0.0026, -0.0000, -0.0110,\n",
      "         0.0004, -0.0000]), tensor([[ 0.0000e+00,  1.5796e-01,  0.0000e+00,  0.0000e+00,  2.8171e-01,\n",
      "          0.0000e+00,  0.0000e+00,  0.0000e+00,  9.5288e-02,  8.6534e-02],\n",
      "        [-2.5929e-01, -5.6466e-01, -1.0089e-01,  0.0000e+00, -1.0070e+00,\n",
      "         -0.0000e+00, -1.1470e-01, -0.0000e+00, -3.4061e-01, -3.0932e-01],\n",
      "        [ 0.0000e+00,  0.0000e+00,  0.0000e+00,  0.0000e+00,  0.0000e+00,\n",
      "          0.0000e+00,  0.0000e+00,  0.0000e+00,  0.0000e+00,  0.0000e+00],\n",
      "        [ 0.0000e+00,  0.0000e+00,  0.0000e+00,  0.0000e+00,  0.0000e+00,\n",
      "          0.0000e+00,  0.0000e+00,  0.0000e+00,  0.0000e+00,  0.0000e+00],\n",
      "        [ 1.8905e-01,  4.1170e-01,  7.3557e-02,  0.0000e+00,  7.3420e-01,\n",
      "          1.5751e-01,  0.0000e+00,  6.0857e-02,  2.4834e-01,  2.2553e-01],\n",
      "        [ 0.0000e+00,  0.0000e+00,  0.0000e+00,  0.0000e+00,  0.0000e+00,\n",
      "          0.0000e+00,  0.0000e+00,  0.0000e+00,  0.0000e+00,  0.0000e+00],\n",
      "        [ 4.5336e-02,  9.8728e-02,  1.7639e-02,  0.0000e+00,  1.7607e-01,\n",
      "          3.7772e-02,  0.0000e+00,  1.4594e-02,  5.9555e-02,  0.0000e+00],\n",
      "        [ 0.0000e+00,  0.0000e+00,  0.0000e+00,  0.0000e+00,  0.0000e+00,\n",
      "          0.0000e+00,  0.0000e+00,  0.0000e+00,  0.0000e+00,  0.0000e+00],\n",
      "        [ 0.0000e+00,  0.0000e+00,  0.0000e+00,  0.0000e+00,  0.0000e+00,\n",
      "          0.0000e+00,  0.0000e+00,  0.0000e+00,  0.0000e+00,  0.0000e+00],\n",
      "        [ 2.2699e-08,  4.5356e-04,  0.0000e+00,  0.0000e+00,  0.0000e+00,\n",
      "          1.1737e-04,  4.0781e-05,  3.4846e-04,  0.0000e+00,  0.0000e+00]]), tensor([0.0000, -0.0000, 0.0000, 0.0000, 0.1815, 0.0000, 0.0435, 0.0000, 0.0000,\n",
      "        0.0000]), tensor([[-9.2873e-01, -4.8178e-01,  0.0000e+00, -0.0000e+00, -6.6035e-01,\n",
      "         -0.0000e+00, -4.2530e-01, -0.0000e+00, -0.0000e+00, -1.7439e-04]]), tensor([-0.])]\n"
     ]
    }
   ],
   "source": [
    "print([p.grad for p in ddmodel.parameters()])"
   ]
  },
  {
   "cell_type": "code",
   "execution_count": 41,
   "metadata": {},
   "outputs": [],
   "source": [
    "par_list = model.parameters()\n",
    "n_par = sum(torch.numel(p) for p in par_list)"
   ]
  },
  {
   "cell_type": "code",
   "execution_count": 46,
   "metadata": {},
   "outputs": [],
   "source": [
    "hessian = torch.zeros(n_par, n_par)\n",
    "for pp in range(n_par):\n",
    "    base_vec = torch.zeros(n_par).unsqueeze(0)\n",
    "    base_vec[0, pp] = 1.\n",
    "    \n",
    "    base_vec = utils.unflatten_like(base_vec, model.parameters())\n",
    "    utils.eval_hess_vec_prod(base_vec, model.parameters(),\n",
    "                            net=model,\n",
    "                            criterion=torch.nn.BCEWithLogitsLoss(),\n",
    "                            inputs=train_x, targets=train_y)\n",
    "    if pp == 0:\n",
    "        output = utils.gradtensor_to_tensor(model, include_bn=True)\n",
    "        hessian = torch.zeros(output.nelement(), output.nelement())\n",
    "        hessian[:, pp] = output\n",
    "    \n",
    "#     print(pp)\n",
    "    hessian[:, pp] = utils.gradtensor_to_tensor(model, include_bn=True).cpu()"
   ]
  },
  {
   "cell_type": "code",
   "execution_count": 34,
   "metadata": {},
   "outputs": [
    {
     "data": {
      "text/plain": [
       "ReLU()"
      ]
     },
     "execution_count": 34,
     "metadata": {},
     "output_type": "execute_result"
    }
   ],
   "source": [
    "torch.nn.ReLU()"
   ]
  },
  {
   "cell_type": "code",
   "execution_count": 65,
   "metadata": {},
   "outputs": [],
   "source": [
    "def get_mask(net):\n",
    "    mask_list = []\n",
    "    for lyr in net.sequential:\n",
    "        if isinstance(lyr, hess.nets.MaskedLayer):\n",
    "            mask_list.append(lyr.mask)\n",
    "            \n",
    "    return hess.utils.flatten(mask_list)"
   ]
  },
  {
   "cell_type": "code",
   "execution_count": 66,
   "metadata": {},
   "outputs": [
    {
     "data": {
      "text/plain": [
       "tensor([1., 1., 1., 1., 1., 1., 0., 0., 1., 1., 0., 1., 0., 1., 1., 0., 1., 1.,\n",
       "        1., 0., 0., 1., 0., 1., 1., 0., 0., 0., 1., 1., 1., 1., 1., 1., 1., 0.,\n",
       "        1., 0., 1., 1., 1., 1., 0., 1., 1., 1., 1., 0., 1., 0., 1., 0., 0., 0.,\n",
       "        1., 0., 1., 0., 1., 1., 1., 1., 1., 1., 1., 1., 0., 1., 1., 1., 0., 0.,\n",
       "        1., 1., 1., 1., 0., 1., 0., 0., 1., 1., 1., 0., 1., 1., 0., 1., 1., 0.,\n",
       "        1., 0., 0., 0., 1., 1., 1., 0., 0., 1., 0., 0., 0., 1., 1., 1., 1., 1.,\n",
       "        0., 0., 1., 1., 0., 0., 1., 1., 1., 1., 0., 0., 1., 1., 1., 0., 1., 0.,\n",
       "        1., 0., 0., 1.])"
      ]
     },
     "execution_count": 66,
     "metadata": {},
     "output_type": "execute_result"
    }
   ],
   "source": [
    "get_mask(model)"
   ]
  },
  {
   "cell_type": "code",
   "execution_count": 50,
   "metadata": {},
   "outputs": [
    {
     "data": {
      "text/plain": [
       "<matplotlib.image.AxesImage at 0x124ee3588>"
      ]
     },
     "execution_count": 50,
     "metadata": {},
     "output_type": "execute_result"
    },
    {
     "data": {
      "image/png": "[encoded data removed]",
      "text/plain": [
       "<Figure size 432x288 with 1 Axes>"
      ]
     },
     "metadata": {
      "needs_background": "light"
     },
     "output_type": "display_data"
    }
   ],
   "source": [
    "plt.imshow(hessian)"
   ]
  },
  {
   "cell_type": "code",
   "execution_count": null,
   "metadata": {},
   "outputs": [],
   "source": [
    "utils.flatten()"
   ]
  }
 ],
 "metadata": {
  "kernelspec": {
   "display_name": "Python 3",
   "language": "python",
   "name": "python3"
  },
  "language_info": {
   "codemirror_mode": {
    "name": "ipython",
    "version": 3
   },
   "file_extension": ".py",
   "mimetype": "text/x-python",
   "name": "python",
   "nbconvert_exporter": "python",
   "pygments_lexer": "ipython3",
   "version": "3.7.3"
  }
 },
 "nbformat": 4,
 "nbformat_minor": 2
}
