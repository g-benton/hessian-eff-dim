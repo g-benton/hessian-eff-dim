{
 "cells": [
  {
   "cell_type": "code",
   "execution_count": 49,
   "metadata": {},
   "outputs": [],
   "source": [
    "import math\n",
    "import torch\n",
    "import gpytorch\n",
    "from gpytorch.utils.lanczos import lanczos_tridiag, lanczos_tridiag_to_diag\n",
    "import numpy as np\n",
    "from gpytorch.kernels import RBFKernel"
   ]
  },
  {
   "cell_type": "code",
   "execution_count": 51,
   "metadata": {},
   "outputs": [],
   "source": [
    "nx = 100\n",
    "x = torch.linspace(0,5., nx)\n",
    "\n",
    "kern = RBFKernel()\n",
    "\n",
    "mat = kern(x).evaluate()"
   ]
  },
  {
   "cell_type": "code",
   "execution_count": 21,
   "metadata": {},
   "outputs": [],
   "source": [
    "def matmul_closure(vec):\n",
    "    return mat.matmul(vec)"
   ]
  },
  {
   "cell_type": "code",
   "execution_count": 22,
   "metadata": {},
   "outputs": [],
   "source": [
    "Q, T = lanczos_tridiag(matmul_closure, 10, \n",
    "                       dtype=mat.dtype, device='cpu', \n",
    "                       matrix_shape=(nx, nx))"
   ]
  },
  {
   "cell_type": "code",
   "execution_count": 17,
   "metadata": {},
   "outputs": [],
   "source": [
    "T_evals, T_evecs = lanczos_tridiag_to_diag(T)"
   ]
  },
  {
   "cell_type": "code",
   "execution_count": 24,
   "metadata": {},
   "outputs": [],
   "source": [
    "lan_evals = T_evals.sort()[0]\n",
    "lan_evecs = Q.matmul(T_evecs)"
   ]
  },
  {
   "cell_type": "code",
   "execution_count": 54,
   "metadata": {},
   "outputs": [],
   "source": [
    "e_val, e_vec = np.linalg.eig(mat.detach())\n",
    "idx = np.abs(e_val).argsort()[::-1]   \n",
    "e_val = torch.FloatTensor(e_val[idx].real)\n",
    "e_vec = torch.FloatTensor(e_vec[:,idx].real)"
   ]
  },
  {
   "cell_type": "code",
   "execution_count": 56,
   "metadata": {},
   "outputs": [
    {
     "data": {
      "text/plain": [
       "tensor([ 3.2108e+01,  2.6123e+01,  1.8569e+01,  1.1576e+01,  6.3621e+00,\n",
       "         3.1027e+00,  1.3525e+00,  5.3104e-01,  1.8918e-01,  6.1558e-02,\n",
       "         1.8407e-02,  5.0844e-03,  1.3034e-03,  3.1153e-04,  6.9808e-05,\n",
       "         1.4698e-05,  3.0591e-06, -1.6624e-06,  1.5788e-06, -1.4307e-06,\n",
       "        -1.3236e-06,  1.2985e-06,  1.1719e-06,  1.0953e-06,  1.0040e-06,\n",
       "        -9.2321e-07, -9.0039e-07, -8.7608e-07,  7.8198e-07, -7.5803e-07,\n",
       "         7.5478e-07, -6.9787e-07,  6.5950e-07,  6.5950e-07, -6.0781e-07,\n",
       "         5.7422e-07, -5.4638e-07,  5.0089e-07,  5.0089e-07, -4.9085e-07,\n",
       "         4.7084e-07,  4.7084e-07, -4.5579e-07, -4.5579e-07, -4.2145e-07,\n",
       "         4.1234e-07,  4.1234e-07,  4.0669e-07, -3.0523e-07,  3.0160e-07,\n",
       "         3.0160e-07, -2.8538e-07,  2.8106e-07, -2.4779e-07,  2.3684e-07,\n",
       "         2.3684e-07, -2.3178e-07, -2.0798e-07, -1.9209e-07,  1.8105e-07,\n",
       "         1.8105e-07,  1.7849e-07, -1.6199e-07, -1.6199e-07,  1.5339e-07,\n",
       "         1.5339e-07, -1.4113e-07, -1.4113e-07, -1.3182e-07,  1.2822e-07,\n",
       "         1.2549e-07,  1.2549e-07, -1.1778e-07, -1.1778e-07,  1.0011e-07,\n",
       "         1.0011e-07, -9.3535e-08, -9.3535e-08, -8.0349e-08, -8.0349e-08,\n",
       "         7.5420e-08,  7.5420e-08, -7.5005e-08,  6.2317e-08,  6.2317e-08,\n",
       "        -5.7049e-08, -5.7049e-08,  6.3295e-08,  5.7198e-08,  5.7198e-08,\n",
       "        -5.5152e-08, -5.5152e-08, -1.8347e-08, -1.8347e-08,  3.0532e-08,\n",
       "        -3.3200e-09, -3.3200e-09,  1.4422e-08,  1.4422e-08, -1.2588e-08])"
      ]
     },
     "execution_count": 56,
     "metadata": {},
     "output_type": "execute_result"
    }
   ],
   "source": [
    "e_val"
   ]
  },
  {
   "cell_type": "code",
   "execution_count": 57,
   "metadata": {},
   "outputs": [
    {
     "data": {
      "text/plain": [
       "tensor([4.0673e-04, 7.7011e-02, 4.7000e-01, 1.3525e+00, 3.1027e+00, 6.3621e+00,\n",
       "        1.1576e+01, 1.8569e+01, 2.6123e+01, 3.2108e+01],\n",
       "       grad_fn=<ViewBackward>)"
      ]
     },
     "execution_count": 57,
     "metadata": {},
     "output_type": "execute_result"
    }
   ],
   "source": [
    "lan_evals"
   ]
  },
  {
   "cell_type": "code",
   "execution_count": 61,
   "metadata": {},
   "outputs": [
    {
     "data": {
      "text/plain": [
       "tensor([ 0.1240,  0.1366,  0.1436,  0.1556,  0.1491,  0.1714,  0.1459,  0.1604,\n",
       "         0.1715,  0.1449,  0.1491,  0.1452,  0.1494,  0.1407,  0.1486,  0.1392,\n",
       "         0.1190,  0.1256,  0.1192,  0.1067,  0.0995,  0.0870,  0.0617,  0.0795,\n",
       "         0.0504,  0.0428,  0.0470,  0.0289,  0.0216, -0.0005, -0.0010,  0.0023,\n",
       "        -0.0062, -0.0347, -0.0311, -0.0488, -0.0295, -0.0336, -0.0548, -0.0632,\n",
       "        -0.0689, -0.0714, -0.0568, -0.0682, -0.0629, -0.0685, -0.0629, -0.0408,\n",
       "        -0.0839, -0.0738, -0.0877, -0.0846, -0.0675, -0.0722, -0.0584, -0.0830,\n",
       "        -0.0790, -0.0781, -0.0949, -0.0928, -0.0762, -0.0982, -0.0799, -0.0977,\n",
       "        -0.0982, -0.0831, -0.0970, -0.1053, -0.1101, -0.1268, -0.1182, -0.1391,\n",
       "        -0.1101, -0.1189, -0.1127, -0.1196, -0.1385, -0.1266, -0.1144, -0.1208,\n",
       "        -0.1384, -0.1060, -0.1143, -0.1290, -0.1214, -0.1253, -0.1052, -0.0968,\n",
       "        -0.1074, -0.0842, -0.1026, -0.0955, -0.0769, -0.0819, -0.0818, -0.0627,\n",
       "        -0.0615, -0.0623, -0.0511, -0.0489], grad_fn=<SelectBackward>)"
      ]
     },
     "execution_count": 61,
     "metadata": {},
     "output_type": "execute_result"
    }
   ],
   "source": [
    "lan_evecs[:, -1]"
   ]
  },
  {
   "cell_type": "code",
   "execution_count": 62,
   "metadata": {},
   "outputs": [
    {
     "data": {
      "text/plain": [
       "tensor([-0.0357, -0.0383, -0.0410, -0.0437, -0.0465, -0.0493, -0.0522, -0.0551,\n",
       "        -0.0580, -0.0609, -0.0638, -0.0667, -0.0696, -0.0725, -0.0753, -0.0781,\n",
       "        -0.0809, -0.0836, -0.0863, -0.0889, -0.0915, -0.0940, -0.0965, -0.0988,\n",
       "        -0.1011, -0.1034, -0.1055, -0.1076, -0.1096, -0.1115, -0.1133, -0.1151,\n",
       "        -0.1168, -0.1183, -0.1198, -0.1212, -0.1226, -0.1238, -0.1249, -0.1260,\n",
       "        -0.1269, -0.1278, -0.1285, -0.1292, -0.1298, -0.1302, -0.1306, -0.1309,\n",
       "        -0.1311, -0.1312, -0.1312, -0.1311, -0.1309, -0.1306, -0.1302, -0.1298,\n",
       "        -0.1292, -0.1285, -0.1278, -0.1269, -0.1260, -0.1249, -0.1238, -0.1226,\n",
       "        -0.1212, -0.1198, -0.1183, -0.1168, -0.1151, -0.1133, -0.1115, -0.1096,\n",
       "        -0.1076, -0.1055, -0.1034, -0.1011, -0.0988, -0.0965, -0.0940, -0.0915,\n",
       "        -0.0889, -0.0863, -0.0836, -0.0809, -0.0781, -0.0753, -0.0725, -0.0696,\n",
       "        -0.0667, -0.0638, -0.0609, -0.0580, -0.0551, -0.0522, -0.0493, -0.0465,\n",
       "        -0.0437, -0.0410, -0.0383, -0.0357])"
      ]
     },
     "execution_count": 62,
     "metadata": {},
     "output_type": "execute_result"
    }
   ],
   "source": [
    "e_vec[:, 0]"
   ]
  },
  {
   "cell_type": "code",
   "execution_count": null,
   "metadata": {},
   "outputs": [],
   "source": []
  }
 ],
 "metadata": {
  "kernelspec": {
   "display_name": "Python 3",
   "language": "python",
   "name": "python3"
  },
  "language_info": {
   "codemirror_mode": {
    "name": "ipython",
    "version": 3
   },
   "file_extension": ".py",
   "mimetype": "text/x-python",
   "name": "python",
   "nbconvert_exporter": "python",
   "pygments_lexer": "ipython3",
   "version": "3.7.3"
  }
 },
 "nbformat": 4,
 "nbformat_minor": 2
}
