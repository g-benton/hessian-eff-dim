{
 "cells": [
  {
   "cell_type": "code",
   "execution_count": 1,
   "metadata": {},
   "outputs": [],
   "source": [
    "import math\n",
    "import torch\n",
    "import hess\n",
    "import matplotlib.pyplot as plt\n",
    "from hess.nets import Transformer"
   ]
  },
  {
   "cell_type": "code",
   "execution_count": 2,
   "metadata": {},
   "outputs": [],
   "source": [
    "nx = 150\n",
    "\n",
    "ax0 = torch.linspace(0, 5, nx)\n",
    "ax1 = ax0.clone()\n",
    "train_x = torch.zeros(nx**2, 2)\n",
    "\n",
    "for ii in range(nx):\n",
    "    for jj in range(nx):\n",
    "        train_x[ii*nx + jj, 0] = ax0[ii]\n",
    "        train_x[ii*nx + jj, 1] = ax1[jj]\n",
    "        \n",
    "train_y = torch.sin(train_x[:, 0] * math.pi) + torch.sin(train_x[:, 1] * 0.5)"
   ]
  },
  {
   "cell_type": "code",
   "execution_count": 3,
   "metadata": {},
   "outputs": [],
   "source": [
    "optimus = Transformer(train_x, train_y, n_hidden=2, hidden_size=100)"
   ]
  },
  {
   "cell_type": "code",
   "execution_count": null,
   "metadata": {},
   "outputs": [],
   "source": []
  }
 ],
 "metadata": {
  "kernelspec": {
   "display_name": "Python 3",
   "language": "python",
   "name": "python3"
  },
  "language_info": {
   "codemirror_mode": {
    "name": "ipython",
    "version": 3
   },
   "file_extension": ".py",
   "mimetype": "text/x-python",
   "name": "python",
   "nbconvert_exporter": "python",
   "pygments_lexer": "ipython3",
   "version": "3.7.3"
  }
 },
 "nbformat": 4,
 "nbformat_minor": 2
}
