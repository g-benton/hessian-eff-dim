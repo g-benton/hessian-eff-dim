{
 "cells": [
  {
   "cell_type": "code",
   "execution_count": 12,
   "metadata": {},
   "outputs": [],
   "source": [
    "import torch\n",
    "import hess\n",
    "import math\n",
    "import numpy as np\n",
    "from hess.nets import Transformer\n",
    "from hess.eigs import hessian_eigenpairs"
   ]
  },
  {
   "cell_type": "code",
   "execution_count": 13,
   "metadata": {},
   "outputs": [],
   "source": [
    "nx = 500\n",
    "train_x = torch.linspace(0, 10, nx).unsqueeze(-1)\n",
    "train_y = torch.sin(train_x * math.pi) + torch.sin(train_x)"
   ]
  },
  {
   "cell_type": "code",
   "execution_count": 14,
   "metadata": {},
   "outputs": [],
   "source": [
    "optimus = Transformer(train_x, train_y, n_hidden=2, hidden_size=10,\n",
    "                     activation=torch.nn.Tanh())\n"
   ]
  },
  {
   "cell_type": "code",
   "execution_count": 19,
   "metadata": {},
   "outputs": [],
   "source": [
    "use_cuda = torch.cuda.is_available()\n",
    "if use_cuda:\n",
    "    torch.cuda.set_device(4)\n",
    "    optimus = optimus.cuda()\n",
    "    train_x, train_y = train_x.cuda(), train_y.cuda()\n",
    "    \n",
    "device = train_x.device"
   ]
  },
  {
   "cell_type": "code",
   "execution_count": 20,
   "metadata": {},
   "outputs": [
    {
     "data": {
      "text/plain": [
       "device(type='cuda', index=4)"
      ]
     },
     "execution_count": 20,
     "metadata": {},
     "output_type": "execute_result"
    }
   ],
   "source": [
    "device"
   ]
  },
  {
   "cell_type": "code",
   "execution_count": 21,
   "metadata": {},
   "outputs": [],
   "source": [
    "trained_pars = torch.load(\"../hess/saved-models/toy_regression.pt\", map_location=device)"
   ]
  },
  {
   "cell_type": "code",
   "execution_count": 32,
   "metadata": {},
   "outputs": [
    {
     "data": {
      "text/plain": [
       "<All keys matched successfully>"
      ]
     },
     "execution_count": 32,
     "metadata": {},
     "output_type": "execute_result"
    }
   ],
   "source": [
    "optimus.net.load_state_dict(trained_pars)"
   ]
  },
  {
   "cell_type": "code",
   "execution_count": 33,
   "metadata": {},
   "outputs": [],
   "source": [
    "hessian = torch.load(\"../hess/saved-models/toy_hessian.pt\", map_location=device)"
   ]
  },
  {
   "cell_type": "code",
   "execution_count": 34,
   "metadata": {},
   "outputs": [],
   "source": [
    "e_val, e_vec = np.linalg.eig(hessian.cpu())\n",
    "idx = e_val.argsort()[::-1]   \n",
    "e_val = torch.FloatTensor(e_val[idx].real)\n",
    "e_vec = torch.FloatTensor(e_vec[:,idx].real)"
   ]
  },
  {
   "cell_type": "markdown",
   "metadata": {},
   "source": [
    "## Try the lanczos stuff"
   ]
  },
  {
   "cell_type": "code",
   "execution_count": 35,
   "metadata": {},
   "outputs": [
    {
     "name": "stdout",
     "output_type": "stream",
     "text": [
      "Automatic pdb calling has been turned ON\n"
     ]
    }
   ],
   "source": [
    "%pdb"
   ]
  },
  {
   "cell_type": "code",
   "execution_count": 52,
   "metadata": {},
   "outputs": [],
   "source": [
    "test_vals, test_vecs = hessian_eigenpairs(optimus.net, n_eigs=200,\n",
    "                                        criterion=torch.nn.MSELoss(), inputs=train_x,\n",
    "                                         targets=train_y)"
   ]
  },
  {
   "cell_type": "code",
   "execution_count": 56,
   "metadata": {},
   "outputs": [
    {
     "data": {
      "text/plain": [
       "tensor([1.7385e+04, 1.4113e+03, 1.1012e+02, 8.8872e+01, 6.8777e+01, 3.8682e+01,\n",
       "        1.7675e+01, 8.9182e+00, 5.0146e+00, 2.3566e+00, 1.8266e+00, 1.2695e+00,\n",
       "        1.2015e+00, 1.0000e+00, 1.0000e+00, 1.0000e+00, 1.0000e+00, 1.0000e+00,\n",
       "        1.0000e+00, 1.0000e+00, 1.0000e+00, 1.0000e+00, 1.0000e+00, 1.0000e+00,\n",
       "        1.0000e+00, 1.0000e+00, 1.0000e+00, 1.0000e+00, 1.0000e+00, 1.0000e+00,\n",
       "        1.0000e+00, 1.0000e+00, 1.0000e+00, 1.0000e+00, 1.0000e+00, 1.0000e+00,\n",
       "        1.0000e+00, 1.0000e+00, 1.0000e+00, 1.0000e+00, 1.0000e+00, 1.0000e+00,\n",
       "        1.0000e+00, 1.0000e+00, 1.0000e+00, 1.0000e+00, 1.0000e+00, 1.0000e+00,\n",
       "        1.0000e+00, 1.0000e+00, 1.0000e+00, 1.0000e+00, 1.0000e+00, 1.0000e+00,\n",
       "        1.0000e+00, 1.0000e+00, 1.0000e+00, 1.0000e+00, 1.0000e+00, 1.0000e+00,\n",
       "        1.0000e+00, 1.0000e+00, 1.0000e+00, 1.0000e+00, 1.0000e+00, 1.0000e+00,\n",
       "        1.0000e+00, 1.0000e+00, 1.0000e+00, 1.0000e+00, 1.0000e+00, 1.0000e+00,\n",
       "        1.0000e+00, 1.0000e+00, 1.0000e+00, 1.0000e+00, 8.8116e-01, 5.8618e-01,\n",
       "        4.6503e-01, 3.4789e-01, 2.4221e-01, 2.2982e-01, 1.4211e-01, 1.3389e-01,\n",
       "        1.1880e-01, 1.1700e-01, 1.0563e-01, 7.8716e-02, 5.1237e-02, 4.1034e-02,\n",
       "        3.5066e-02, 3.0159e-02, 2.1913e-02, 1.9494e-02, 1.7075e-02, 1.5414e-02,\n",
       "        1.2765e-02, 9.7090e-03, 9.5539e-03, 8.4890e-03, 8.1971e-03, 6.9877e-03,\n",
       "        6.0447e-03, 5.7232e-03, 5.2837e-03, 5.0117e-03, 4.1141e-03, 3.7655e-03,\n",
       "        3.2821e-03, 3.1788e-03, 2.4167e-03, 2.1036e-03, 1.7445e-03, 1.6600e-03,\n",
       "        1.4388e-03, 1.3020e-03, 1.1830e-03, 1.0950e-03, 1.0782e-03, 8.1985e-04,\n",
       "        6.6020e-04, 5.6643e-04, 5.5350e-04, 4.3556e-04, 3.9482e-04, 2.6675e-04,\n",
       "        2.3147e-04, 2.0422e-04, 1.8516e-04, 1.5431e-04, 1.3352e-04, 1.0644e-04,\n",
       "        9.6954e-05, 7.6648e-05, 6.6769e-05, 5.6943e-05, 5.3274e-05, 5.0071e-05,\n",
       "        4.2583e-05, 3.7167e-05, 3.3398e-05, 3.0038e-05, 2.7900e-05, 2.5702e-05,\n",
       "        2.3511e-05, 2.0497e-05, 1.9932e-05, 1.2087e-05, 9.1629e-06, 6.3003e-06,\n",
       "        5.1879e-06, 2.9129e-06, 2.1984e-06, 1.6228e-06, 6.5202e-07],\n",
       "       device='cuda:4')"
      ]
     },
     "execution_count": 56,
     "metadata": {},
     "output_type": "execute_result"
    }
   ],
   "source": [
    "test_vals.sort(descending=True)[0]"
   ]
  },
  {
   "cell_type": "code",
   "execution_count": 51,
   "metadata": {},
   "outputs": [
    {
     "data": {
      "text/plain": [
       "tensor([ 1.7385e+04,  1.4113e+03,  1.1012e+02,  8.8872e+01,  6.8777e+01,\n",
       "         3.8682e+01,  1.7675e+01,  8.9182e+00,  5.0146e+00,  2.3566e+00,\n",
       "         1.8266e+00,  1.2695e+00,  1.2015e+00,  8.8116e-01,  5.8618e-01,\n",
       "         4.6501e-01,  3.4789e-01,  2.4220e-01,  2.2982e-01,  1.4210e-01,\n",
       "         1.3389e-01,  1.1880e-01,  1.1700e-01,  1.0562e-01,  7.8716e-02,\n",
       "         5.1237e-02,  4.1035e-02,  3.5055e-02,  3.0159e-02,  2.1911e-02,\n",
       "         1.9493e-02,  1.7075e-02,  1.5414e-02,  1.2765e-02,  9.7085e-03,\n",
       "         9.5526e-03,  8.4885e-03,  8.1917e-03,  6.9872e-03,  6.0436e-03,\n",
       "         5.7240e-03,  5.3047e-03,  4.9998e-03,  4.1278e-03,  3.9492e-03,\n",
       "         3.2965e-03,  3.2525e-03,  2.7953e-03,  2.4126e-03,  2.0824e-03,\n",
       "         1.7235e-03,  1.5245e-03,  1.3423e-03,  1.2894e-03,  1.1279e-03,\n",
       "         1.0919e-03,  9.3152e-04,  6.7363e-04,  6.5668e-04,  5.4868e-04,\n",
       "         4.4450e-04,  4.0606e-04,  3.8114e-04,  2.4106e-04,  1.9018e-04,\n",
       "         1.6914e-04,  1.3781e-04,  1.2608e-04,  1.0213e-04,  9.5900e-05,\n",
       "         7.5384e-05,  6.7099e-05,  5.7130e-05,  5.3202e-05,  5.0559e-05,\n",
       "         4.2726e-05,  3.7132e-05,  3.3636e-05,  3.1930e-05,  2.8596e-05,\n",
       "         2.5540e-05,  2.3591e-05,  2.0805e-05,  2.0174e-05,  1.1974e-05,\n",
       "         9.5008e-06,  6.3164e-06,  5.3886e-06,  4.7031e-06,  3.5327e-06,\n",
       "         3.3282e-06,  3.3282e-06,  2.8061e-06,  2.4359e-06,  1.6367e-06,\n",
       "         1.4706e-06,  1.4706e-06,  8.6940e-07,  7.5309e-07,  7.4153e-07,\n",
       "         7.4153e-07,  6.1875e-07,  4.2810e-07,  4.2810e-07,  4.1050e-07,\n",
       "         2.6390e-07,  2.2834e-07,  1.2319e-07,  1.2319e-07,  1.1309e-07,\n",
       "         1.0477e-07,  1.0477e-07,  6.3519e-08,  6.3519e-08,  4.9687e-08,\n",
       "         3.4627e-08,  1.8395e-08,  1.8395e-08,  1.6998e-08,  8.5034e-09,\n",
       "         8.5034e-09,  7.7956e-09,  5.9498e-10,  5.9498e-10, -3.7413e-10,\n",
       "        -1.8718e-09, -1.8718e-09, -1.2466e-08, -1.2466e-08, -1.2478e-08,\n",
       "        -1.4390e-08, -1.4390e-08, -1.9258e-08, -2.9573e-08, -2.9573e-08,\n",
       "        -3.7233e-08, -4.1695e-08, -6.4940e-08, -7.6333e-08, -1.0233e-07,\n",
       "        -1.2099e-07, -1.2099e-07, -1.7614e-07, -1.7614e-07, -2.4111e-07,\n",
       "        -2.4111e-07, -3.5394e-07, -5.5411e-07, -6.2883e-07, -6.5587e-07,\n",
       "        -6.5587e-07, -1.1562e-06, -1.2437e-06, -1.2437e-06, -1.5961e-06,\n",
       "        -1.6325e-06, -2.7413e-06, -2.7413e-06, -3.8923e-06, -3.8923e-06,\n",
       "        -5.3437e-06, -5.3437e-06, -5.3579e-06, -7.6549e-06, -9.1751e-06,\n",
       "        -1.1645e-05, -1.2540e-05, -1.8458e-05, -2.0411e-05, -2.4585e-05,\n",
       "        -2.7460e-05, -2.9305e-05, -3.3409e-05, -3.6167e-05, -4.0070e-05,\n",
       "        -4.7780e-05, -5.1572e-05, -5.5085e-05, -6.1674e-05, -6.8325e-05,\n",
       "        -7.9147e-05, -1.3226e-04, -1.4815e-04, -1.7664e-04, -2.0036e-04,\n",
       "        -2.2562e-04, -2.7929e-04, -3.5745e-04, -4.2395e-04, -4.9936e-04,\n",
       "        -5.9626e-04, -6.7997e-04, -8.0963e-04, -9.2717e-04, -1.0670e-03,\n",
       "        -1.1877e-03, -1.3601e-03, -1.7744e-03, -2.5567e-03, -2.6381e-03,\n",
       "        -3.0314e-03, -4.1793e-03, -5.0026e-03, -5.3789e-03, -6.5300e-03,\n",
       "        -7.2347e-03, -7.3181e-03, -7.6025e-03, -7.7996e-03, -9.2234e-03,\n",
       "        -1.2940e-02, -1.6465e-02, -2.1032e-02, -4.0370e-02, -8.5187e-02,\n",
       "        -1.4428e-01, -1.9574e-01, -6.1888e+00, -8.1640e+00, -9.9330e+00])"
      ]
     },
     "execution_count": 51,
     "metadata": {},
     "output_type": "execute_result"
    }
   ],
   "source": [
    "e_val"
   ]
  },
  {
   "cell_type": "code",
   "execution_count": null,
   "metadata": {},
   "outputs": [],
   "source": []
  }
 ],
 "metadata": {
  "kernelspec": {
   "display_name": "Python 3",
   "language": "python",
   "name": "python3"
  },
  "language_info": {
   "codemirror_mode": {
    "name": "ipython",
    "version": 3
   },
   "file_extension": ".py",
   "mimetype": "text/x-python",
   "name": "python",
   "nbconvert_exporter": "python",
   "pygments_lexer": "ipython3",
   "version": "3.7.3"
  }
 },
 "nbformat": 4,
 "nbformat_minor": 2
}
