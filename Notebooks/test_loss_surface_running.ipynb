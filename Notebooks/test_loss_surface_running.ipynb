{
 "cells": [
  {
   "cell_type": "code",
   "execution_count": 1,
   "metadata": {},
   "outputs": [],
   "source": [
    "import torch\n",
    "import hess\n",
    "import math\n",
    "import numpy as np\n",
    "from hess.nets import Transformer\n",
    "from hess.eigs import hessian_eigenpairs"
   ]
  },
  {
   "cell_type": "code",
   "execution_count": 2,
   "metadata": {},
   "outputs": [],
   "source": [
    "nx = 500\n",
    "train_x = torch.linspace(0, 10, nx).unsqueeze(-1)\n",
    "train_y = torch.sin(train_x * math.pi) + torch.sin(train_x)"
   ]
  },
  {
   "cell_type": "code",
   "execution_count": 3,
   "metadata": {},
   "outputs": [],
   "source": [
    "optimus = Transformer(train_x, train_y, n_hidden=2, hidden_size=10,\n",
    "                     activation=torch.nn.Tanh())"
   ]
  },
  {
   "cell_type": "code",
   "execution_count": 4,
   "metadata": {},
   "outputs": [],
   "source": [
    "trained_pars = torch.load(\"../hess/saved-models/toy_regression.pt\", map_location=\"cpu\")"
   ]
  },
  {
   "cell_type": "code",
   "execution_count": 5,
   "metadata": {},
   "outputs": [],
   "source": [
    "hessian = torch.load(\"../hess/saved-models/toy_hessian.pt\", map_location=\"cpu\")"
   ]
  },
  {
   "cell_type": "code",
   "execution_count": 6,
   "metadata": {},
   "outputs": [],
   "source": [
    "e_val, e_vec = np.linalg.eig(hessian)\n",
    "idx = e_val.argsort()[::-1]   \n",
    "e_val = torch.FloatTensor(e_val[idx].real)\n",
    "e_vec = torch.FloatTensor(e_vec[:,idx].real)"
   ]
  },
  {
   "cell_type": "markdown",
   "metadata": {},
   "source": [
    "## Try the lanczos stuff"
   ]
  },
  {
   "cell_type": "code",
   "execution_count": 7,
   "metadata": {},
   "outputs": [
    {
     "name": "stdout",
     "output_type": "stream",
     "text": [
      "Automatic pdb calling has been turned ON\n"
     ]
    }
   ],
   "source": [
    "%pdb"
   ]
  },
  {
   "cell_type": "code",
   "execution_count": null,
   "metadata": {},
   "outputs": [],
   "source": [
    "test_vals, test_vecs = hessian_eigenpairs(optimus.net, n_eigs=10,\n",
    "                                        criterion=torch.nn.Functional.MSELoss, inputs=train_x,\n",
    "                                         targets=train_y)"
   ]
  },
  {
   "cell_type": "code",
   "execution_count": null,
   "metadata": {},
   "outputs": [],
   "source": []
  }
 ],
 "metadata": {
  "kernelspec": {
   "display_name": "Python 3",
   "language": "python",
   "name": "python3"
  },
  "language_info": {
   "codemirror_mode": {
    "name": "ipython",
    "version": 3
   },
   "file_extension": ".py",
   "mimetype": "text/x-python",
   "name": "python",
   "nbconvert_exporter": "python",
   "pygments_lexer": "ipython3",
   "version": "3.7.3"
  }
 },
 "nbformat": 4,
 "nbformat_minor": 2
}
