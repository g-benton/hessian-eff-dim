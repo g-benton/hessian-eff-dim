{
 "cells": [
  {
   "cell_type": "code",
   "execution_count": 33,
   "metadata": {},
   "outputs": [],
   "source": [
    "import math\n",
    "import torch\n",
    "import hess\n",
    "import hess.utils as utils\n",
    "import hess.nets\n",
    "import numpy as np\n",
    "import pickle"
   ]
  },
  {
   "cell_type": "code",
   "execution_count": 2,
   "metadata": {},
   "outputs": [],
   "source": [
    "def twospirals(n_points, noise=.5, random_state=920):\n",
    "    \"\"\"\n",
    "     Returns the two spirals dataset.\n",
    "    \"\"\"\n",
    "    n = np.sqrt(np.random.rand(n_points,1)) * 600 * (2*np.pi)/360\n",
    "    d1x = -1.5*np.cos(n)*n + np.random.randn(n_points,1) * noise\n",
    "    d1y =  1.5*np.sin(n)*n + np.random.randn(n_points,1) * noise\n",
    "    return (np.vstack((np.hstack((d1x,d1y)),np.hstack((-d1x,-d1y)))),\n",
    "            np.hstack((np.zeros(n_points),np.ones(n_points))))"
   ]
  },
  {
   "cell_type": "code",
   "execution_count": 3,
   "metadata": {},
   "outputs": [],
   "source": [
    "X, Y = twospirals(500, noise=1.3)\n",
    "train_x = torch.FloatTensor(X)\n",
    "train_y = torch.FloatTensor(Y).unsqueeze(-1)"
   ]
  },
  {
   "cell_type": "code",
   "execution_count": 4,
   "metadata": {},
   "outputs": [],
   "source": [
    "use_cuda = torch.cuda.is_available()\n",
    "if use_cuda:\n",
    "    train_x, train_y = train_x.cuda(), train_y.cuda()"
   ]
  },
  {
   "cell_type": "code",
   "execution_count": 5,
   "metadata": {},
   "outputs": [],
   "source": [
    "loss_func = torch.nn.BCEWithLogitsLoss()\n",
    "lr = 0.01"
   ]
  },
  {
   "cell_type": "code",
   "execution_count": 25,
   "metadata": {},
   "outputs": [],
   "source": [
    "n_trials = 2\n",
    "n_iters = 25\n",
    "losses = torch.zeros(n_trials, n_iters)\n",
    "init_eigs = []\n",
    "final_eigs = []\n",
    "optim = torch.optim.Adam"
   ]
  },
  {
   "cell_type": "code",
   "execution_count": 26,
   "metadata": {},
   "outputs": [
    {
     "name": "stdout",
     "output_type": "stream",
     "text": [
      "model  0  done\n",
      "model  1  done\n"
     ]
    }
   ],
   "source": [
    "for trial in range(n_trials):\n",
    "    model = hess.nets.MaskedNet(train_x, train_y, bias=True, \n",
    "                                n_hidden=5, pct_keep=0.9)\n",
    "    if use_cuda:\n",
    "        model = model.cuda()\n",
    "    mask = utils.get_mask(model)\n",
    "    keepers = np.array(np.where(mask == 1))[0]\n",
    "    \n",
    "    ## compute hessian pre-training ##\n",
    "    hessian = utils.get_hessian(train_x, train_y, loss=loss_func,\n",
    "                         model=model)\n",
    "    sub_hess = hessian[np.ix_(keepers, keepers)]\n",
    "    e_val, _ = np.linalg.eig(sub_hess.detach())\n",
    "    init_eigs.append(e_val.real) \n",
    "    \n",
    "    ## train ##\n",
    "    optimizer=optim(model.parameters(), lr=lr)\n",
    "\n",
    "    for step in range(n_iters):\n",
    "        optimizer.zero_grad()\n",
    "        outputs = model(train_x)\n",
    "\n",
    "        loss=loss_func(outputs,train_y)\n",
    "        losses[trial, step] = loss\n",
    "        loss.backward()\n",
    "        optimizer.step()\n",
    "    \n",
    "    ## compute final hessian ##\n",
    "    hessian = utils.get_hessian(train_x, train_y, loss=loss_func,\n",
    "                         model=model)\n",
    "    sub_hess = hessian[np.ix_(keepers, keepers)]\n",
    "    e_val, _ = np.linalg.eig(sub_hess)\n",
    "    final_eigs.append(e_val.real)\n",
    "    \n",
    "    print(\"model \", trial, \" done\")"
   ]
  },
  {
   "cell_type": "code",
   "execution_count": 31,
   "metadata": {},
   "outputs": [],
   "source": [
    "fpath = \"../saved-experiments/\"\n",
    "\n",
    "fname = \"losses.pt\"\n",
    "torch.save(losses, fpath + fname)\n",
    "\n",
    "fname = \"init_eigs.P\"\n",
    "with open(fpath + fname, 'wb') as fp:\n",
    "    pickle.dump(init_eigs, fp)\n",
    "        \n",
    "fname = \"final_eigs.P\"\n",
    "with open(fpath + fname, 'wb') as fp:\n",
    "    pickle.dump(final_eigs, fp)"
   ]
  }
 ],
 "metadata": {
  "kernelspec": {
   "display_name": "Python 3",
   "language": "python",
   "name": "python3"
  },
  "language_info": {
   "codemirror_mode": {
    "name": "ipython",
    "version": 3
   },
   "file_extension": ".py",
   "mimetype": "text/x-python",
   "name": "python",
   "nbconvert_exporter": "python",
   "pygments_lexer": "ipython3",
   "version": "3.7.3"
  }
 },
 "nbformat": 4,
 "nbformat_minor": 2
}
