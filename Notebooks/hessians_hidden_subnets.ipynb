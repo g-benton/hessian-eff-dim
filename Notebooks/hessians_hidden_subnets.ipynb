{
 "cells": [
  {
   "cell_type": "code",
   "execution_count": 1,
   "metadata": {},
   "outputs": [],
   "source": [
    "import math\n",
    "import hess\n",
    "import matplotlib.pyplot as plt\n",
    "import numpy as np\n",
    "from hess.nets import SubLayerLinear, SubNetLinear, MaskedNetLinear\n",
    "import hess.net_utils as net_utils\n",
    "import hess.utils as utils\n",
    "import torch\n",
    "from torch import nn"
   ]
  },
  {
   "cell_type": "code",
   "execution_count": 2,
   "metadata": {},
   "outputs": [],
   "source": [
    "def twospirals(n_points, noise=.5, random_state=920):\n",
    "    \"\"\"\n",
    "     Returns the two spirals dataset.\n",
    "    \"\"\"\n",
    "    n = np.sqrt(np.random.rand(n_points,1)) * 600 * (2*np.pi)/360\n",
    "    d1x = -1.5*np.cos(n)*n + np.random.randn(n_points,1) * noise\n",
    "    d1y =  1.5*np.sin(n)*n + np.random.randn(n_points,1) * noise\n",
    "    return (np.vstack((np.hstack((d1x,d1y)),np.hstack((-d1x,-d1y)))),\n",
    "            np.hstack((np.zeros(n_points),np.ones(n_points))))"
   ]
  },
  {
   "cell_type": "code",
   "execution_count": 3,
   "metadata": {},
   "outputs": [],
   "source": [
    "X, Y = twospirals(500, noise=1.3)\n",
    "train_x = torch.FloatTensor(X)\n",
    "train_y = torch.FloatTensor(Y).unsqueeze(-1)"
   ]
  },
  {
   "cell_type": "code",
   "execution_count": 4,
   "metadata": {},
   "outputs": [],
   "source": [
    "n_hidden = 5\n",
    "width = 1024"
   ]
  },
  {
   "cell_type": "code",
   "execution_count": 5,
   "metadata": {},
   "outputs": [],
   "source": [
    "subnet_model = SubNetLinear(in_dim=2, out_dim=1, n_layers=n_hidden, k=width, bias=False)\n",
    "masked_model = MaskedNetLinear(in_dim=2, out_dim=1, n_layers=n_hidden, k=width, bias=False)"
   ]
  },
  {
   "cell_type": "code",
   "execution_count": 6,
   "metadata": {},
   "outputs": [
    {
     "name": "stdout",
     "output_type": "stream",
     "text": [
      "==> Setting prune rate of network to 0.5\n",
      "==> Setting prune rate of sequential.0 to 0.5\n",
      "==> Setting prune rate of sequential.2 to 0.5\n",
      "==> Setting prune rate of sequential.4 to 0.5\n",
      "==> Setting prune rate of sequential.6 to 0.5\n",
      "==> Setting prune rate of sequential.8 to 0.5\n",
      "==> Setting prune rate of sequential.10 to 0.5\n",
      "==> Setting prune rate of sequential.12 to 0.5\n",
      "=> Freezing model weights\n",
      "==> No gradient to sequential.0.weight\n",
      "==> No gradient to sequential.2.weight\n",
      "==> No gradient to sequential.4.weight\n",
      "==> No gradient to sequential.6.weight\n",
      "==> No gradient to sequential.8.weight\n",
      "==> No gradient to sequential.10.weight\n",
      "==> No gradient to sequential.12.weight\n",
      "==> Applied Weights\n",
      "==> Applied Mask\n"
     ]
    }
   ],
   "source": [
    "hess.net_utils.set_model_prune_rate(subnet_model, 0.5)\n",
    "hess.net_utils.freeze_model_weights(subnet_model)\n",
    "\n",
    "weights = net_utils.get_weights_from_subnet(subnet_model)\n",
    "\n",
    "net_utils.apply_weights(masked_model, weights)\n",
    "mask = net_utils.get_mask_from_subnet(subnet_model)\n",
    "net_utils.apply_mask(masked_model, mask)\n",
    "mask = utils.flatten(mask)"
   ]
  },
  {
   "cell_type": "code",
   "execution_count": 7,
   "metadata": {},
   "outputs": [],
   "source": [
    "loss_func = torch.nn.BCEWithLogitsLoss()"
   ]
  },
  {
   "cell_type": "code",
   "execution_count": 8,
   "metadata": {},
   "outputs": [
    {
     "name": "stdout",
     "output_type": "stream",
     "text": [
      "Automatic pdb calling has been turned ON\n"
     ]
    }
   ],
   "source": [
    "%pdb"
   ]
  },
  {
   "cell_type": "code",
   "execution_count": 9,
   "metadata": {
    "scrolled": false
   },
   "outputs": [
    {
     "name": "stdout",
     "output_type": "stream",
     "text": [
      "numpars is:  2622976\n",
      "finished a hvp\n",
      "finished a hvp\n",
      "finished a hvp\n",
      "finished a hvp\n",
      "finished a hvp\n",
      "finished a hvp\n",
      "finished a hvp\n",
      "finished a hvp\n",
      "finished a hvp\n",
      "finished a hvp\n",
      "finished a hvp\n",
      "finished a hvp\n",
      "finished a hvp\n",
      "finished a hvp\n",
      "finished a hvp\n",
      "finished a hvp\n",
      "finished a hvp\n",
      "finished a hvp\n",
      "finished a hvp\n",
      "finished a hvp\n",
      "finished a hvp\n",
      "finished a hvp\n",
      "finished a hvp\n",
      "finished a hvp\n",
      "finished a hvp\n",
      "finished a hvp\n",
      "finished a hvp\n",
      "finished a hvp\n",
      "finished a hvp\n",
      "finished a hvp\n",
      "finished a hvp\n",
      "finished a hvp\n",
      "finished a hvp\n",
      "finished a hvp\n",
      "finished a hvp\n",
      "finished a hvp\n",
      "finished a hvp\n",
      "finished a hvp\n",
      "finished a hvp\n",
      "finished a hvp\n",
      "finished a hvp\n",
      "finished a hvp\n",
      "finished a hvp\n",
      "finished a hvp\n",
      "finished a hvp\n",
      "finished a hvp\n",
      "finished a hvp\n",
      "finished a hvp\n",
      "finished a hvp\n",
      "finished a hvp\n",
      "finished a hvp\n",
      "finished a hvp\n",
      "finished a hvp\n",
      "finished a hvp\n",
      "finished a hvp\n",
      "finished a hvp\n",
      "finished a hvp\n",
      "finished a hvp\n",
      "finished a hvp\n",
      "finished a hvp\n",
      "finished a hvp\n",
      "finished a hvp\n",
      "finished a hvp\n",
      "finished a hvp\n",
      "finished a hvp\n",
      "finished a hvp\n",
      "finished a hvp\n",
      "finished a hvp\n",
      "finished a hvp\n",
      "finished a hvp\n",
      "finished a hvp\n",
      "finished a hvp\n",
      "finished a hvp\n",
      "finished a hvp\n",
      "finished a hvp\n",
      "finished a hvp\n",
      "finished a hvp\n",
      "finished a hvp\n",
      "finished a hvp\n",
      "finished a hvp\n",
      "finished a hvp\n",
      "finished a hvp\n",
      "finished a hvp\n",
      "finished a hvp\n",
      "finished a hvp\n",
      "finished a hvp\n",
      "finished a hvp\n",
      "finished a hvp\n",
      "finished a hvp\n",
      "finished a hvp\n",
      "finished a hvp\n",
      "finished a hvp\n",
      "finished a hvp\n",
      "finished a hvp\n",
      "finished a hvp\n",
      "finished a hvp\n",
      "finished a hvp\n",
      "finished a hvp\n",
      "finished a hvp\n",
      "finished a hvp\n"
     ]
    }
   ],
   "source": [
    "eigs = utils.get_hessian_eigs(loss_func, masked_model, mask=mask, n_eigs=100,\n",
    "                             train_x=train_x, train_y=train_y)"
   ]
  },
  {
   "cell_type": "code",
   "execution_count": 10,
   "metadata": {},
   "outputs": [
    {
     "data": {
      "text/plain": [
       "[<matplotlib.lines.Line2D at 0x7f59981eb3d0>]"
      ]
     },
     "execution_count": 10,
     "metadata": {},
     "output_type": "execute_result"
    },
    {
     "data": {
      "image/png": "[encoded data removed]",
      "text/plain": [
       "<Figure size 432x288 with 1 Axes>"
      ]
     },
     "metadata": {
      "needs_background": "light"
     },
     "output_type": "display_data"
    }
   ],
   "source": [
    "plt.plot(eigs)"
   ]
  },
  {
   "cell_type": "code",
   "execution_count": null,
   "metadata": {},
   "outputs": [],
   "source": []
  }
 ],
 "metadata": {
  "kernelspec": {
   "display_name": "Python 3",
   "language": "python",
   "name": "python3"
  },
  "language_info": {
   "codemirror_mode": {
    "name": "ipython",
    "version": 3
   },
   "file_extension": ".py",
   "mimetype": "text/x-python",
   "name": "python",
   "nbconvert_exporter": "python",
   "pygments_lexer": "ipython3",
   "version": "3.7.4"
  }
 },
 "nbformat": 4,
 "nbformat_minor": 2
}
