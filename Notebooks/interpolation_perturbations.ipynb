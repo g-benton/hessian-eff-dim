{
 "cells": [
  {
   "cell_type": "code",
   "execution_count": 1,
   "metadata": {},
   "outputs": [],
   "source": [
    "import math\n",
    "import torch\n",
    "import hess\n",
    "import matplotlib.pyplot as plt\n",
    "import numpy as np\n",
    "from hess.nets import Transformer"
   ]
  },
  {
   "cell_type": "code",
   "execution_count": 2,
   "metadata": {},
   "outputs": [],
   "source": [
    "nx = 500\n",
    "test_x = torch.linspace(0, 10, nx).unsqueeze(-1)\n",
    "test_y = torch.sin(test_x * 0.5) + torch.sin(test_x)"
   ]
  },
  {
   "cell_type": "code",
   "execution_count": 3,
   "metadata": {},
   "outputs": [],
   "source": [
    "splts = [i * nx//5 for i in range(1, 6)]"
   ]
  },
  {
   "cell_type": "code",
   "execution_count": 4,
   "metadata": {},
   "outputs": [],
   "source": [
    "train_x = torch.cat((test_x[:splts[0], :], \n",
    "                     test_x[splts[1]:splts[2], :], \n",
    "                     test_x[splts[3]:splts[4], :]))\n",
    "train_y = torch.cat((test_y[:splts[0], :], \n",
    "                     test_y[splts[1]:splts[2], :], \n",
    "                     test_y[splts[3]:splts[4], :]))"
   ]
  },
  {
   "cell_type": "code",
   "execution_count": 5,
   "metadata": {},
   "outputs": [],
   "source": [
    "optimus = Transformer(train_x, train_y, n_hidden=5, hidden_size=10,\n",
    "                     activation=torch.nn.Tanh(), bias=True)"
   ]
  },
  {
   "cell_type": "code",
   "execution_count": 6,
   "metadata": {},
   "outputs": [],
   "source": [
    "trained_pars = torch.load(\"../hess/saved-models/toy_regression2.pt\", map_location=\"cpu\")"
   ]
  },
  {
   "cell_type": "code",
   "execution_count": 7,
   "metadata": {},
   "outputs": [
    {
     "data": {
      "text/plain": [
       "<All keys matched successfully>"
      ]
     },
     "execution_count": 7,
     "metadata": {},
     "output_type": "execute_result"
    }
   ],
   "source": [
    "optimus.net.load_state_dict(trained_pars)"
   ]
  },
  {
   "cell_type": "code",
   "execution_count": 8,
   "metadata": {},
   "outputs": [],
   "source": [
    "hessian = torch.load(\"../hess/saved-models/toy_hessian2.pt\", map_location=\"cpu\")"
   ]
  },
  {
   "cell_type": "code",
   "execution_count": 9,
   "metadata": {},
   "outputs": [],
   "source": [
    "orig_pred = optimus(test_x)"
   ]
  },
  {
   "cell_type": "code",
   "execution_count": 10,
   "metadata": {},
   "outputs": [],
   "source": [
    "e_val, e_vec = np.linalg.eig(hessian)\n",
    "idx = e_val.argsort()[::-1]   \n",
    "e_val = torch.FloatTensor(e_val[idx].real)\n",
    "e_vec = torch.FloatTensor(e_vec[:,idx].real)"
   ]
  },
  {
   "cell_type": "markdown",
   "metadata": {},
   "source": [
    "### Perturb in largest e-vec basis"
   ]
  },
  {
   "cell_type": "code",
   "execution_count": 11,
   "metadata": {},
   "outputs": [],
   "source": [
    "import hess.utils as utils"
   ]
  },
  {
   "cell_type": "code",
   "execution_count": 12,
   "metadata": {},
   "outputs": [],
   "source": [
    "top_vecs = e_vec[:, 0:3]"
   ]
  },
  {
   "cell_type": "code",
   "execution_count": 13,
   "metadata": {},
   "outputs": [],
   "source": [
    "n_pert = 10\n",
    "scale = 0.05\n",
    "pert_preds = torch.zeros(nx, n_pert)"
   ]
  },
  {
   "cell_type": "code",
   "execution_count": 14,
   "metadata": {},
   "outputs": [],
   "source": [
    "for jj in range(10):\n",
    "    wghts = torch.randn(3)*0.01\n",
    "    perturb = top_vecs.matmul(wghts.unsqueeze(-1)).t()\n",
    "    perturb = perturb.div(perturb.norm()).mul(scale)\n",
    "#     print(perturb.shape)\n",
    "    perturb = utils.unflatten_like(perturb, optimus.net.parameters())\n",
    "    for i, par in enumerate(optimus.net.parameters()):\n",
    "        par.data = par.data + perturb[i]\n",
    "        \n",
    "    pert_preds[:, jj] = optimus(test_x).squeeze()\n",
    "    \n",
    "    optimus.net.load_state_dict(trained_pars)"
   ]
  },
  {
   "cell_type": "markdown",
   "metadata": {},
   "source": [
    "### Perturb in smallest e-vec basis"
   ]
  },
  {
   "cell_type": "code",
   "execution_count": 33,
   "metadata": {},
   "outputs": [],
   "source": [
    "n_vec = 560\n",
    "bot_vecs = e_vec[:, -n_vec:]"
   ]
  },
  {
   "cell_type": "code",
   "execution_count": 34,
   "metadata": {},
   "outputs": [],
   "source": [
    "n_pert = 10\n",
    "small_pert_preds = torch.zeros(nx, n_pert)"
   ]
  },
  {
   "cell_type": "code",
   "execution_count": 35,
   "metadata": {},
   "outputs": [
    {
     "name": "stdout",
     "output_type": "stream",
     "text": [
      "torch.Size([1, 581])\n",
      "torch.Size([1, 581])\n",
      "torch.Size([1, 581])\n",
      "torch.Size([1, 581])\n",
      "torch.Size([1, 581])\n",
      "torch.Size([1, 581])\n",
      "torch.Size([1, 581])\n",
      "torch.Size([1, 581])\n",
      "torch.Size([1, 581])\n",
      "torch.Size([1, 581])\n"
     ]
    }
   ],
   "source": [
    "for jj in range(10):\n",
    "    wghts = torch.randn(n_vec)\n",
    "    perturb = bot_vecs.matmul(wghts.unsqueeze(-1)).t()\n",
    "    perturb = perturb.div(perturb.norm()).mul(scale)\n",
    "    print(perturb.shape)\n",
    "    perturb = utils.unflatten_like(perturb, optimus.net.parameters())\n",
    "    for i, par in enumerate(optimus.net.parameters()):\n",
    "        par.data = par.data + perturb[i]\n",
    "    small_pert_preds[:, jj] = optimus(test_x).squeeze()\n",
    "    \n",
    "    optimus.net.load_state_dict(trained_pars)"
   ]
  },
  {
   "cell_type": "markdown",
   "metadata": {},
   "source": [
    "### Plotting"
   ]
  },
  {
   "cell_type": "code",
   "execution_count": 36,
   "metadata": {},
   "outputs": [
    {
     "data": {
      "text/plain": [
       "[<matplotlib.lines.Line2D at 0x1277c82b0>,\n",
       " <matplotlib.lines.Line2D at 0x1278016a0>,\n",
       " <matplotlib.lines.Line2D at 0x1278017f0>,\n",
       " <matplotlib.lines.Line2D at 0x127801940>,\n",
       " <matplotlib.lines.Line2D at 0x127801a90>,\n",
       " <matplotlib.lines.Line2D at 0x127801be0>,\n",
       " <matplotlib.lines.Line2D at 0x127801d30>,\n",
       " <matplotlib.lines.Line2D at 0x127801e80>,\n",
       " <matplotlib.lines.Line2D at 0x127801fd0>,\n",
       " <matplotlib.lines.Line2D at 0x127875160>]"
      ]
     },
     "execution_count": 36,
     "metadata": {},
     "output_type": "execute_result"
    },
    {
     "data": {
      "image/png": "[encoded data removed]",
      "text/plain": [
       "<Figure size 432x288 with 1 Axes>"
      ]
     },
     "metadata": {
      "needs_background": "light"
     },
     "output_type": "display_data"
    }
   ],
   "source": [
    "plt.scatter(train_x, train_y.detach(), marker=\".\")\n",
    "plt.plot(test_x, small_pert_preds.detach(), color=\"red\")"
   ]
  },
  {
   "cell_type": "code",
   "execution_count": 37,
   "metadata": {},
   "outputs": [
    {
     "data": {
      "text/plain": [
       "[<matplotlib.lines.Line2D at 0x1278ec400>]"
      ]
     },
     "execution_count": 37,
     "metadata": {},
     "output_type": "execute_result"
    },
    {
     "data": {
      "image/png": "[encoded data removed]",
      "text/plain": [
       "<Figure size 432x288 with 1 Axes>"
      ]
     },
     "metadata": {
      "needs_background": "light"
     },
     "output_type": "display_data"
    }
   ],
   "source": [
    "plt.plot(test_x, test_y.detach())\n",
    "plt.plot(test_x, pert_preds.detach(), color=\"red\")\n",
    "plt.plot(test_x, pert_preds.mean(-1).detach(), color=\"green\",\n",
    "        linewidth=2.)"
   ]
  },
  {
   "cell_type": "code",
   "execution_count": 38,
   "metadata": {},
   "outputs": [],
   "source": [
    "test = optimus(train_x)"
   ]
  },
  {
   "cell_type": "code",
   "execution_count": 39,
   "metadata": {},
   "outputs": [
    {
     "data": {
      "text/plain": [
       "[<matplotlib.lines.Line2D at 0x1279cae10>]"
      ]
     },
     "execution_count": 39,
     "metadata": {},
     "output_type": "execute_result"
    },
    {
     "data": {
      "image/png": "[encoded data removed]",
      "text/plain": [
       "<Figure size 432x288 with 1 Axes>"
      ]
     },
     "metadata": {
      "needs_background": "light"
     },
     "output_type": "display_data"
    }
   ],
   "source": [
    "plt.plot(train_x, test.detach())"
   ]
  },
  {
   "cell_type": "markdown",
   "metadata": {},
   "source": [
    "## Scratch"
   ]
  },
  {
   "cell_type": "code",
   "execution_count": 40,
   "metadata": {},
   "outputs": [],
   "source": [
    "t1 = torch.randn(100, 1)\n",
    "t2 = torch.randn(100, 1)"
   ]
  },
  {
   "cell_type": "code",
   "execution_count": 41,
   "metadata": {},
   "outputs": [
    {
     "data": {
      "text/plain": [
       "tensor(0.8722)"
      ]
     },
     "execution_count": 41,
     "metadata": {},
     "output_type": "execute_result"
    }
   ],
   "source": [
    "t1.squeeze().dot(t2.squeeze())"
   ]
  },
  {
   "cell_type": "code",
   "execution_count": 42,
   "metadata": {},
   "outputs": [
    {
     "data": {
      "text/plain": [
       "tensor(9.4592)"
      ]
     },
     "execution_count": 42,
     "metadata": {},
     "output_type": "execute_result"
    }
   ],
   "source": [
    "t1.norm()"
   ]
  },
  {
   "cell_type": "code",
   "execution_count": 43,
   "metadata": {},
   "outputs": [],
   "source": [
    "out = [p.data for p in optimus.net.parameters()]"
   ]
  }
 ],
 "metadata": {
  "kernelspec": {
   "display_name": "Python 3",
   "language": "python",
   "name": "python3"
  },
  "language_info": {
   "codemirror_mode": {
    "name": "ipython",
    "version": 3
   },
   "file_extension": ".py",
   "mimetype": "text/x-python",
   "name": "python",
   "nbconvert_exporter": "python",
   "pygments_lexer": "ipython3",
   "version": "3.7.3"
  }
 },
 "nbformat": 4,
 "nbformat_minor": 2
}
